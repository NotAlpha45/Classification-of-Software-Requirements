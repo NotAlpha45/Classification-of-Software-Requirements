{
 "cells": [
  {
   "cell_type": "code",
   "execution_count": 1,
   "metadata": {},
   "outputs": [],
   "source": [
    "BATCH_SIZE = 128\n",
    "MAX_LENGTH = 128"
   ]
  },
  {
   "cell_type": "markdown",
   "metadata": {},
   "source": [
    "# Ensemble Model Run\n",
    "\n",
    "In this notebook, we will run ensemble models on the segmented data. We will use the following models:\n",
    "1. Random Forest\n",
    "2. XGBoost\n",
    "3. LightGBM"
   ]
  },
  {
   "cell_type": "code",
   "execution_count": 2,
   "metadata": {},
   "outputs": [],
   "source": [
    "import numpy as np\n",
    "import pandas as pd"
   ]
  },
  {
   "cell_type": "code",
   "execution_count": 3,
   "metadata": {},
   "outputs": [],
   "source": [
    "train_labels = (\n",
    "    pd.read_csv(\"../../../Datasets/RegExpPURE/PURE_train.csv\", usecols=[\"Req/Not Req\"])[\n",
    "        \"Req/Not Req\"\n",
    "    ]\n",
    "    .map({\"Req\": 1, \"Not_Req\": 0})\n",
    "    .values\n",
    ")\n",
    "test_labels = (\n",
    "    pd.read_csv(\"../../../Datasets/RegExpPURE/PURE_test.csv\", usecols=[\"Req/Not Req\"])[\n",
    "        \"Req/Not Req\"\n",
    "    ]\n",
    "    .map({\"Req\": 1, \"Not_Req\": 0})\n",
    "    .values\n",
    ")\n",
    "valid_labels = (\n",
    "    pd.read_csv(\"../../../Datasets/RegExpPURE/PURE_valid.csv\", usecols=[\"Req/Not Req\"])[\n",
    "        \"Req/Not Req\"\n",
    "    ]\n",
    "    .map({\"Req\": 1, \"Not_Req\": 0})\n",
    "    .values\n",
    ")"
   ]
  },
  {
   "cell_type": "code",
   "execution_count": 4,
   "metadata": {},
   "outputs": [],
   "source": [
    "train_feature_size = len(train_labels)\n",
    "test_feature_size = len(test_labels)\n",
    "valid_feature_size = len(valid_labels)"
   ]
  },
  {
   "cell_type": "code",
   "execution_count": 5,
   "metadata": {},
   "outputs": [],
   "source": [
    "train_segments = np.concatenate(\n",
    "    [\n",
    "        np.load(f\"../../../States/DistilBert_Pretrained/Train/train_{i}.npy\")\n",
    "        for i in range(0, train_feature_size, BATCH_SIZE)\n",
    "    ]\n",
    ")\n",
    "\n",
    "test_segments = np.concatenate(\n",
    "    [\n",
    "        np.load(f\"../../../States/DistilBert_Pretrained/Test/test_{i}.npy\")\n",
    "        for i in range(0, test_feature_size, BATCH_SIZE)\n",
    "    ]\n",
    ")\n",
    "\n",
    "valid_segments = np.concatenate(\n",
    "    [\n",
    "        np.load(f\"../../../States/DistilBert_Pretrained/Validation/Validation_{i}.npy\")\n",
    "        for i in range(0, valid_feature_size, BATCH_SIZE)\n",
    "    ]\n",
    ")"
   ]
  },
  {
   "cell_type": "code",
   "execution_count": 6,
   "metadata": {},
   "outputs": [],
   "source": [
    "# Reshape the segments such that each segment is a 1D array\n",
    "train_segments = train_segments.reshape(train_feature_size, -1)\n",
    "test_segments = test_segments.reshape(test_feature_size, -1)\n",
    "valid_segments = valid_segments.reshape(valid_feature_size, -1)"
   ]
  },
  {
   "cell_type": "code",
   "execution_count": 7,
   "metadata": {},
   "outputs": [
    {
     "data": {
      "text/plain": [
       "((5306, 98304), (1534, 98304), (905, 98304))"
      ]
     },
     "execution_count": 7,
     "metadata": {},
     "output_type": "execute_result"
    }
   ],
   "source": [
    "train_segments.shape, test_segments.shape, valid_segments.shape"
   ]
  },
  {
   "cell_type": "code",
   "execution_count": 8,
   "metadata": {},
   "outputs": [],
   "source": [
    "# from sklearn.decomposition import PCA\n",
    "\n",
    "# # Create a PCA object\n",
    "# pca = PCA(n_components=0.97)  # Retain 95% of the variance\n",
    "\n",
    "# # Fit PCA on the train segments\n",
    "# train_segments_pca = pca.fit_transform(train_segments)\n",
    "# test_segments_pca = pca.transform(test_segments)\n",
    "# valid_segments_pca = pca.transform(valid_segments)\n",
    "\n",
    "# # Print the shape of the transformed segments\n",
    "# print(\"Train segments shape after PCA:\", train_segments_pca.shape)\n",
    "# print(\"Validation segments shape after PCA:\", valid_segments_pca.shape)\n",
    "# print(\"Test segments shape after PCA:\", test_segments_pca.shape)\n",
    "# print(\"Explained variance ratio:\", pca.explained_variance_ratio_.sum())"
   ]
  },
  {
   "cell_type": "code",
   "execution_count": 9,
   "metadata": {},
   "outputs": [],
   "source": [
    "import joblib\n",
    "from sklearn.model_selection import GridSearchCV\n",
    "from sklearn.metrics import classification_report"
   ]
  },
  {
   "cell_type": "markdown",
   "metadata": {},
   "source": [
    "## Random Forest"
   ]
  },
  {
   "cell_type": "code",
   "execution_count": 10,
   "metadata": {},
   "outputs": [],
   "source": [
    "from sklearn.ensemble import RandomForestClassifier"
   ]
  },
  {
   "cell_type": "code",
   "execution_count": 11,
   "metadata": {},
   "outputs": [
    {
     "name": "stdout",
     "output_type": "stream",
     "text": [
      "Test set performance: \n",
      "               precision    recall  f1-score   support\n",
      "\n",
      "           0       0.37      0.92      0.52       476\n",
      "           1       0.88      0.28      0.43      1058\n",
      "\n",
      "    accuracy                           0.48      1534\n",
      "   macro avg       0.62      0.60      0.47      1534\n",
      "weighted avg       0.72      0.48      0.46      1534\n",
      "\n",
      "Validation set performance: \n",
      "               precision    recall  f1-score   support\n",
      "\n",
      "           0       0.86      0.79      0.82       650\n",
      "           1       0.55      0.66      0.60       255\n",
      "\n",
      "    accuracy                           0.75       905\n",
      "   macro avg       0.70      0.73      0.71       905\n",
      "weighted avg       0.77      0.75      0.76       905\n",
      "\n"
     ]
    }
   ],
   "source": [
    "rf_clf = RandomForestClassifier(random_state=42)\n",
    "\n",
    "rf_clf.fit(train_segments, train_labels)\n",
    "\n",
    "# Test set performance\n",
    "test_preds = rf_clf.predict(test_segments)\n",
    "print(\"Test set performance: \\n\",classification_report(test_labels, test_preds))\n",
    "\n",
    "# Validation set performance\n",
    "valid_preds = rf_clf.predict(valid_segments)\n",
    "print(\"Validation set performance: \\n\",classification_report(valid_labels, valid_preds))"
   ]
  },
  {
   "cell_type": "code",
   "execution_count": null,
   "metadata": {},
   "outputs": [],
   "source": []
  },
  {
   "cell_type": "code",
   "execution_count": 12,
   "metadata": {},
   "outputs": [],
   "source": [
    "# # Define the parameter grid for hyperparameter tuning\n",
    "# param_grid = {\n",
    "#     \"n_estimators\": [100, 200, 300],\n",
    "#     \"max_depth\": [None, 5, 10],\n",
    "#     \"min_samples_split\": [2, 5, 10],\n",
    "#     \"min_samples_leaf\": [1, 2, 4],\n",
    "# }\n",
    "\n",
    "# # Create a random forest classifier\n",
    "# rf_clf = RandomForestClassifier(random_state=42)\n",
    "\n",
    "# # Perform grid search cross-validation\n",
    "# grid_search = GridSearchCV(\n",
    "#     estimator=rf_clf, param_grid=param_grid, cv=5, scoring=\"accuracy\", n_jobs=-1, verbose=2\n",
    "# )\n",
    "# grid_search.fit(train_segments_pca, train_labels)\n",
    "\n",
    "# # Print the best hyperparameters and the corresponding accuracy score\n",
    "# print(\"Best Hyperparameters: \", grid_search.best_params_)\n",
    "# print(\"Best Accuracy Score: \", grid_search.best_score_)"
   ]
  },
  {
   "cell_type": "code",
   "execution_count": 13,
   "metadata": {},
   "outputs": [],
   "source": [
    "# rf_clf_best = RandomForestClassifier(\n",
    "#     n_estimators=grid_search.best_params_[\"n_estimators\"],\n",
    "#     max_depth=grid_search.best_params_[\"max_depth\"],\n",
    "#     min_samples_split=grid_search.best_params_[\"min_samples_split\"],\n",
    "#     min_samples_leaf=grid_search.best_params_[\"min_samples_leaf\"],\n",
    "#     random_state=42,\n",
    "# )\n",
    "\n",
    "# rf_clf_best.fit(train_segments_pca, train_labels)\n",
    "\n",
    "# # Evaluate the Random Forest Classifier on the test set\n",
    "# test_predictions = rf_clf_best.predict(test_segments_pca)\n",
    "# print(classification_report(test_labels, test_predictions))\n",
    "\n",
    "# # Evaluate the Random Forest Classifier on the validation set\n",
    "# valid_predictions = rf_clf_best.predict(valid_segments_pca)\n",
    "# print(classification_report(valid_labels, valid_predictions))"
   ]
  }
 ],
 "metadata": {
  "kernelspec": {
   "display_name": "venv",
   "language": "python",
   "name": "python3"
  },
  "language_info": {
   "codemirror_mode": {
    "name": "ipython",
    "version": 3
   },
   "file_extension": ".py",
   "mimetype": "text/x-python",
   "name": "python",
   "nbconvert_exporter": "python",
   "pygments_lexer": "ipython3",
   "version": "3.12.3"
  }
 },
 "nbformat": 4,
 "nbformat_minor": 2
}
