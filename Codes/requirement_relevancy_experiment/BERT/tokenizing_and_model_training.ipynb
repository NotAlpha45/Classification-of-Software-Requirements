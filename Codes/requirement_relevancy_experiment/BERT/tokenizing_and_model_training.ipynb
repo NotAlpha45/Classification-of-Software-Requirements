{
 "cells": [
  {
   "cell_type": "code",
   "execution_count": 1,
   "metadata": {},
   "outputs": [],
   "source": [
    "import pandas as pd\n",
    "import torch\n",
    "import os\n",
    "import numpy as np"
   ]
  },
  {
   "cell_type": "code",
   "execution_count": 2,
   "metadata": {},
   "outputs": [
    {
     "data": {
      "text/plain": [
       "'NVIDIA GeForce RTX 3050 Ti Laptop GPU'"
      ]
     },
     "execution_count": 2,
     "metadata": {},
     "output_type": "execute_result"
    }
   ],
   "source": [
    "MY_DEVICE = torch.device(\"cuda\" if torch.cuda.is_available() else \"cpu\")\n",
    "torch.cuda.get_device_name(MY_DEVICE)"
   ]
  },
  {
   "cell_type": "code",
   "execution_count": 3,
   "metadata": {},
   "outputs": [],
   "source": [
    "os.environ[\"PYTORCH_CUDA_ALLOC_CONF\"] = \"caching_allocator\""
   ]
  },
  {
   "cell_type": "code",
   "execution_count": 4,
   "metadata": {},
   "outputs": [
    {
     "data": {
      "text/html": [
       "<div>\n",
       "<style scoped>\n",
       "    .dataframe tbody tr th:only-of-type {\n",
       "        vertical-align: middle;\n",
       "    }\n",
       "\n",
       "    .dataframe tbody tr th {\n",
       "        vertical-align: top;\n",
       "    }\n",
       "\n",
       "    .dataframe thead th {\n",
       "        text-align: right;\n",
       "    }\n",
       "</style>\n",
       "<table border=\"1\" class=\"dataframe\">\n",
       "  <thead>\n",
       "    <tr style=\"text-align: right;\">\n",
       "      <th></th>\n",
       "      <th>reqs_statement</th>\n",
       "      <th>action_part</th>\n",
       "      <th>actor_part</th>\n",
       "      <th>label</th>\n",
       "    </tr>\n",
       "  </thead>\n",
       "  <tbody>\n",
       "    <tr>\n",
       "      <th>0</th>\n",
       "      <td>user submit job associate cost execution time ...</td>\n",
       "      <td>submit job associate cost execution time deadline</td>\n",
       "      <td>user</td>\n",
       "      <td>relevant</td>\n",
       "    </tr>\n",
       "    <tr>\n",
       "      <th>1</th>\n",
       "      <td>user establish cost unit time and submit job</td>\n",
       "      <td>establish cost unit time and submit job</td>\n",
       "      <td>user</td>\n",
       "      <td>relevant</td>\n",
       "    </tr>\n",
       "    <tr>\n",
       "      <th>2</th>\n",
       "      <td>user monitor job submit status</td>\n",
       "      <td>monitor job submit status</td>\n",
       "      <td>user</td>\n",
       "      <td>relevant</td>\n",
       "    </tr>\n",
       "    <tr>\n",
       "      <th>3</th>\n",
       "      <td>user cancel job submit</td>\n",
       "      <td>cancel job submit</td>\n",
       "      <td>user</td>\n",
       "      <td>relevant</td>\n",
       "    </tr>\n",
       "    <tr>\n",
       "      <th>4</th>\n",
       "      <td>user check credit balance</td>\n",
       "      <td>check credit balance</td>\n",
       "      <td>user</td>\n",
       "      <td>relevant</td>\n",
       "    </tr>\n",
       "  </tbody>\n",
       "</table>\n",
       "</div>"
      ],
      "text/plain": [
       "                                      reqs_statement  \\\n",
       "0  user submit job associate cost execution time ...   \n",
       "1       user establish cost unit time and submit job   \n",
       "2                     user monitor job submit status   \n",
       "3                             user cancel job submit   \n",
       "4                          user check credit balance   \n",
       "\n",
       "                                         action_part actor_part     label  \n",
       "0  submit job associate cost execution time deadline       user  relevant  \n",
       "1            establish cost unit time and submit job       user  relevant  \n",
       "2                          monitor job submit status       user  relevant  \n",
       "3                                  cancel job submit       user  relevant  \n",
       "4                               check credit balance       user  relevant  "
      ]
     },
     "execution_count": 4,
     "metadata": {},
     "output_type": "execute_result"
    }
   ],
   "source": [
    "requirement_relevancy_dataset = pd.read_csv(\n",
    "    \"../../../Datasets/irrelevant_requirements_dataset/irrelevant_requirements_dataset.csv\",\n",
    "    engine=\"pyarrow\",\n",
    ")\n",
    "\n",
    "requirement_relevancy_dataset.head()"
   ]
  },
  {
   "cell_type": "markdown",
   "metadata": {},
   "source": [
    "## Experiment With NLP Models\n",
    "\n",
    "In this segment, I will be experimenting with different NLP models to see which one performs the best. I will be using the following models: DistilBERT, ROBERA, DistilBERT, and XLNet. I will be using the HuggingFace library to implement these models. I will be using the same data as the previous notebook.\n"
   ]
  },
  {
   "cell_type": "markdown",
   "metadata": {},
   "source": [
    "## DistilBERT Model\n",
    "\n",
    "DistilBERT is a smaller version of BERT. It is trained to be faster and more efficient than BERT. It is also trained to be more memory efficient. It is trained using the same data as BERT. It is trained using a technique called knowledge distillation. This technique is used to compress a large model into a smaller model. The smaller model is trained to mimic the behavior of the larger model. The smaller model is\n"
   ]
  },
  {
   "cell_type": "code",
   "execution_count": 5,
   "metadata": {},
   "outputs": [],
   "source": [
    "from transformers import (\n",
    "    DistilBertModel,\n",
    "    DistilBertTokenizer,\n",
    ")\n",
    "from sklearn.model_selection import train_test_split"
   ]
  },
  {
   "cell_type": "code",
   "execution_count": 8,
   "metadata": {},
   "outputs": [],
   "source": [
    "text_data_X = requirement_relevancy_dataset[\"reqs_statement\"]\n",
    "label_data_y = requirement_relevancy_dataset[\"label\"]"
   ]
  },
  {
   "cell_type": "code",
   "execution_count": 9,
   "metadata": {},
   "outputs": [
    {
     "data": {
      "text/plain": [
       "['user submit job associate cost execution time deadline',\n",
       " 'user establish cost unit time and submit job',\n",
       " 'user monitor job submit status',\n",
       " 'user cancel job submit',\n",
       " 'user check credit balance',\n",
       " 'user check usage history',\n",
       " 'user check node cluster status',\n",
       " 'user check usage pattern cluster history',\n",
       " 'user check job submit status',\n",
       " 'user check node load cluster',\n",
       " 'user can change cost structure cluster',\n",
       " 'user can change the schedule policy cluster',\n",
       " 'user take a photo of a new student',\n",
       " 'The system administrator must be able to deactivate and reactivate student account login',\n",
       " 'The system administrator must be able to force the sending of a new password to a student via email',\n",
       " 'The system administrator must be able to change any of a student s details',\n",
       " 'Student can be register on the system and fill in all detail and forward to choose project supervisor',\n",
       " 'Student can change detail such as telephone number if information is incorrect',\n",
       " 'Student can change his login password at any time for security reason',\n",
       " 'Student can request his password if he she forgotten the password',\n",
       " 'All staff can view the details of any student',\n",
       " 'Certain staff may be designated as Unit or Cohort Co ordinators and can change the details of any student doing their unit or project cohort',\n",
       " 'Unit Cohort co ordinator can change student detail for incorrect information',\n",
       " 'Unit Cohort co ordinator can view student information and monitor their progress',\n",
       " 'Unit Cohort co ordinator can list all employee who request a personal development program',\n",
       " 'Unit Cohort co ordinator can reset the students password if required',\n",
       " 'System Administrator can backup the mail server of course registration regularly',\n",
       " 'System Administrator can reset the student s password if required',\n",
       " 'Administration Staff can create a monthly accounting report',\n",
       " 'Administration Staff can make a school announcement',\n",
       " 'The archive administrator can create a new client space ',\n",
       " 'The client administrator can manage roles for its client ',\n",
       " 'The archive administrator cannot access documents ',\n",
       " 'The client administrator can view all roles ',\n",
       " 'The client administrator cant read the contents of documents ',\n",
       " 'The client administrator cannot be deleted ',\n",
       " 'An end user can have multiple roles at the same time ',\n",
       " 'Each end user has a person role ',\n",
       " 'Only authenticated end users at the client server can access the document space as phrased in URCAR 45 48 and URCAR50 ',\n",
       " 'End user cannot access the document spaces of other clients as phrased in URCAR 45 48 and URCAR50 ',\n",
       " 'An end user can view assigned rights that are assigned to his role ',\n",
       " 'Each role is managed by at most one other role ',\n",
       " 'Each role inherits all static rights from the roles it manages ',\n",
       " 'Each role has a set possibly empty of person roles assigned to it ',\n",
       " 'Each role owns a set of documents in the SDA ',\n",
       " 'Each role has a set of rights assigned to it ',\n",
       " 'The archive administrator can limit the available client space ',\n",
       " 'A role cant be deleted when there exists documents that are owned by that role ',\n",
       " 'An end user can delegate a role to another person role for a predefined period of time ',\n",
       " 'A role has a log in which the assignment of rights and the expiration of rights are logged ',\n",
       " 'A role has a log in which delegations and the expiration of delegations are logged ',\n",
       " 'A role can have the right to assign a role right to a subordinate role ',\n",
       " 'A role can have the right to remove a role right from a subordinate role ',\n",
       " 'A role can have the right to create subordinate roles ',\n",
       " 'Any role has the right to read view all roles ',\n",
       " 'A role can have the right to update subordinate roles ',\n",
       " 'A role can have the right to delete subordinate roles ',\n",
       " 'A role cannot be deleted when it manages subordinate roles ',\n",
       " 'A role can have the right to couple a person role to a subordinate role ',\n",
       " 'A role can have the right to decouple a person role from a subordinate role ',\n",
       " 'A role can have the right to assign a document right of a document he owns to another role ',\n",
       " 'A role can have the right to take a document right of a document he owns from another role ',\n",
       " 'A role can upload files into the document space associated with that role ',\n",
       " 'A role can download files from the document space associated with that role ',\n",
       " 'A role with the update right can update files in the document space associated with that role ',\n",
       " 'A role with the delete right can delete files in the document space associated with that role ',\n",
       " 'Each document in the SDA is owned by exactly one role ',\n",
       " 'A role that owns a document can hand over that ownership to another role ',\n",
       " 'A user can start chating with other user by clicking on the chat menu',\n",
       " 'User can see detailed information about SGP',\n",
       " 'User can apply for SGP',\n",
       " 'User can update application form for SGP',\n",
       " 'User can update personal data',\n",
       " 'User can upload application related documents',\n",
       " 'User can take english proficiency test',\n",
       " 'The system supports but does not require streamlined staff login methods for example staff member swipes a card to log into a terminal or the staff member logs into a terminal by using his her individual login and password ',\n",
       " 'System administrators can create reliable report templates that are available to staff and can be run as is or modified to the staff person s particular needs Changes in the templates could be done without comprising the results The administrator can limit the filters and display fields that can be altered to certify a dependable output For example front line staff could set the call number range for a weeding report or add or remove designated display fields from a pick list but couldn t alter the template to display deleted items ',\n",
       " 'System provides distinct fine grained permission levels limiting who can create and clone reports All permissions should be easy to administer System administrators can create shared folders to allow or disallow staff to run specific reports and or to run ad hoc reports on specific sets of data ',\n",
       " 'System provides a user friendly interface for designing queries against all record types Staff can select fields to query select values from picklist of possible values select regular expressions from drop down menu and use a full range of Boolean operators Administrators control staff access to tables and fields ',\n",
       " 'The system provides pre defined reports for consumption by library boards or other consumers There will be reports providing basic statistics like those required by the Georgia Annual Report and Application for State Aid and activity reports that indicate traffic and volume of use that display statistics on check outs check ins holds placed and holds filled It should be possible cross tabulated per terminal per branch per library system per hour per patron age range per patron type and per patron location ',\n",
       " 'System provides the query selections along with the results ',\n",
       " 'Ability to see where your report is in the queue of reports waiting to run ',\n",
       " 'System must be able to support the reporting definitions as described in Appendix A ',\n",
       " 'System must be able to support the fine grained reports requirements as described in Appendix B ',\n",
       " 'The system produces statistics that can be used to understand and predict patron behavior and use of materials For example how quickly is a particular book returned on average How likely is a particular book to be renewed What percent of check outs at a particular branch are renewals ',\n",
       " 'The system provides an interface showing capacity of all branches as defined in PINES 014 ',\n",
       " 'Ability to control inventory of uncataloged material such as paperback books and children s board books Support for quick distribution minimal branch labor and ability to identify how the material is being used Ability to count transactions and include in circulation statistics and reports ',\n",
       " 'System provides a utility for transferring batches of items between branches used for example to move books into a mobile library an outreach program collection or a just in time warehouse Utility includes ability to query for candidate materials ability to save queries for repeated use ability to manually select titles from query results and ability to change records of all or selected items to move to new location Mechanisms for moving items include changing location field generating pull lists etc In addition utility provides means to revert items to original location after a set period of time and or based on other criteria ',\n",
       " 'The system generates a list of items that have been in transit for more than X days X configurable per branch and per system The report would merge the transit to and transit from into one report for ease of front line staff use ',\n",
       " 'The system provides a utility and reports for identifying item records to purge based on customizable criteria such as an item has been in status missing for more than X months an item has status discard weed The system has a report to assist in the conversion of items from one status to another The system provides a last copy report that would single out a library system s last copies to assist catalogers who need to edit WorldCat entries The system provides a quick effective method of deleting volume entries along with copy entries as well as records with no items attached ',\n",
       " 'Queries and reports can be limited or grouped by various patron characteristics including age range zip code county of residence home branch patron type and preferred language ',\n",
       " 'The system generates a list of patrons with no circulation or electronic activity in the last X days X configurable List should be configurable to System Home Library County etc ',\n",
       " 'Transaction history is maintained for X days X is configurable monthly and annual aggregate information is maintained indefinitely ',\n",
       " 'Transactions can be grouped by hour terminal branch and system Transactions include check ins check outs fines collected patron registrations etc and can be queried by all transactions or by type of transaction ',\n",
       " 'The system counts all types of check in individually and cumulatively book drop by terminal by user or self service ',\n",
       " 'The system counts all types of check out individually and cumulatively staff check out self check out staff renewal self checkout renewal online renewal OPAC renewal ',\n",
       " 'The system counts all hold requests including how the hold was placed at a staff desk at a public computer inside the library or remotely ',\n",
       " 'The system can generate a report of transactions holds placed holds filled and check outs per patron per library per selected group o libraries per system per county The system displays the number of check outs and placed holds per patron Holds are subtotaled by type e g active frozen and frozen until holds ',\n",
       " 'The system can generate a report of the value of items based on data in item record in the entire collection or a portion Example staff can obtain value of all items with status of longoverdue or value of all dvds in children s collection or value of entire collection ',\n",
       " 'All reports and data archiving must comply with standard accounting practice and state county and municipal auditing requirements ',\n",
       " 'Fines charges waivers and ecommerce transactions are attached to patron and item records System tracks fines waived and payments made per library Financial information can be updated easily As an example a staff user can easily query patron accounts with balances greater than X dollars ',\n",
       " 'The system provides financial reports including patron account balances by patron home library and system fines and charges accrued per time period e g last twelve months YTD last month and per type of charge overdue fines damaged item charges lost item charges etc fines waived per time period and per branch payments made per time period and per payment method e g staff desk self check station OPAC ',\n",
       " 'The system maintains a ledger of patron payments including which charges payments are applied to to facilitate reconciliation ',\n",
       " 'This software is being developed to for customer Xuan Gu an employee for the CISE Department at the University of Florida ',\n",
       " 'TA1 is part of a four part project consisting of a Faculty Admin TA1 and TA2 ',\n",
       " 'The TA1 interface will allow the user to edit the number of TA slots for a particular course as well as assign update TA applicant categories ',\n",
       " 'There will also be a secure login before any of these interfaces are accessible ',\n",
       " 'Bold face and indentation is used on general topics and or specific points of interest ',\n",
       " 'The remainder of the document will be written using the standard font New Times Roman ',\n",
       " 'This is a technical document and the terms should be understood by the customer ',\n",
       " 'The scope of this project includes our group of developers assisted by our customer Xuan ',\n",
       " 'The scope thus far has been the completion of the basic interfaces that will be used to build the system ',\n",
       " 'The database used has been set up and given the necessary permissions ',\n",
       " 'The constraints felt thus far by the group have only been our weekly story cards the end to end side of the interface and our first release scheduled for February 11 2004 ',\n",
       " 'Resources have been used from Dr Cubert s website www cise ufl edu rmc se and this SRS was modeled after one found online at http www processimpact com process assets srs template doc ',\n",
       " 'The TA1 Project is a new product that is part of a larger more complete product for our customer ',\n",
       " 'It will provide the faculty a way of viewing all of the TA1 s information that is necessary in order to make a decision on every TA status ',\n",
       " 'This project has three pages that are part of TA1 which is part of the larger product ',\n",
       " 'The first page is a login interface that will only allow access from the proper users ',\n",
       " 'The second page displays the available classes based on a certain semester and the course enrollment for a particular class ',\n",
       " 'The third and final page displays information about TA their status and any special notes that might have been posted about them ',\n",
       " 'The user classes will be TA1 TA2 Administration and Faculty ',\n",
       " 'This product is web based and will be hosted by a web server on the CISE website www cise ufl edu ',\n",
       " 'This product can be viewed by any web browser and has been tested for compliance with Mozilla Internet Explorer Netscape Navigator and Opera ',\n",
       " 'The Systems are no constraints at this point in time ',\n",
       " 'The user documentation can be found in this SRS ',\n",
       " 'We assume that extra documentation beyond this SRS would not be necessary in order for the user to utilize this product ',\n",
       " 'This feature will give the user a secure and simple login screen ',\n",
       " 'It is based on professor Cubert s exclusionary principle ',\n",
       " 'This means rather than creating try catches for a handful of error types it just has only a handful of available and possible inputs to prevent any improper logging in',\n",
       " 'It will consist of two basic fields Username and Password ',\n",
       " 'the systems are two buttons Login and Lost or Forgot Password ',\n",
       " 'Login will submit the entered data for approval followed by access and the forgot password will direct the user to access his her password which has been forgotten ',\n",
       " 'The most important function is to only grant access to users that are listed in the database ',\n",
       " 'The customer will provide the information on who will be allowed access ',\n",
       " 'To implement the security the web page must check the database to see if the Username and Password are valid ',\n",
       " 'If they are not the user will receive an Invalid login Please try again response ',\n",
       " 'This feature will allow the user to edit the number of TA slots for a specific course ',\n",
       " 'The user will be given a list of course numbers and names for a given semester ',\n",
       " 'They will also be provided with the number of students enrolled in each specific class ',\n",
       " 'This interface will consist of basic fields for the user to enter information ',\n",
       " 'Also information about each person in the database that is listed will be shown if the mouse is highlighting a name for one second ',\n",
       " 'This helps alleviate some time when the user is searching for data because it lessens the usage of the submit button because the data has already been found ',\n",
       " 'It will therefore take you to the following page of options ',\n",
       " 'The main function will use PHP to pull the course information off of the database ',\n",
       " 'This feature will not only provide the user with the general information on all the applicants but also allow them to assign and update the TA categories ',\n",
       " 'The user will be given a list of names and UFID s of all the applicants to their courses ',\n",
       " 'They will also be given the ability to sort the applicants in order of UFID or alphabetically by their last names ',\n",
       " 'The user will be able to change the status of the applicants as needed ',\n",
       " 'This interface will depend mostly on retrieving information from the database ',\n",
       " 'PHP will be integrated into the HTML and will retrieve needed information for the interface ',\n",
       " 'The site will be xhtml1 1 and css compliant ',\n",
       " 'The first interface is the log in screen ',\n",
       " 'This is where the user has a specific Username and Password so that they can gain access to the database ',\n",
       " 'You can choose which semester s classes you would like to view and are able to update any of the categories displayed in the columns ',\n",
       " 'The next and final interface is the assign update page ',\n",
       " 'Though not necessarily interfacing with the hardware the system must make use with an internet connection ',\n",
       " 'The system uses an internet connection to connect to the database ',\n",
       " 'The code itself though does not specifically direct the network controllers to do any work ',\n",
       " 'Along with the internet connection the system makes indirect use of an internet browser ',\n",
       " 'Outside of the HTML code and PHP the code doesnt tell any software including the browser what to do ',\n",
       " 'Access to the database should be restricted to people that are required to view information about TA ',\n",
       " 'Passwords and ID should be regulated to be at least a certain length and must contain non alphanumeric characters in both the password and ID ',\n",
       " 'The system shall display detailed product categorization to the user ',\n",
       " 'The system shall enable user to enter the search text on the screen ',\n",
       " 'The system shall enable user to select multiple options on the screen to search ',\n",
       " 'The system shall display all the matching products based on the search ',\n",
       " 'The system shall display only 10 matching result on the current screen ',\n",
       " 'The system shall enable user to navigate between the search results ',\n",
       " 'The system shall notify the user when no matching product is found on the search ',\n",
       " 'The system shall allow user to create profile and set his credential ',\n",
       " 'The system shall authenticate user credentials to view the profile ',\n",
       " 'The system shall allow user to update the profile information ',\n",
       " 'The system shall display both the active and completed order history in the customer profile ',\n",
       " 'The system shall allow user to select the order from the order history ',\n",
       " 'The system shall display the detailed information about the selected order ',\n",
       " 'The system shall display the most frequently searched items by the user in the profile ',\n",
       " 'The system shall allow user to register for newsletters and surveys in the profile ',\n",
       " 'The system shall provide online help FAQ s customer support and sitemap options for customer support ',\n",
       " 'The system shall allow user to select the support type he wants ',\n",
       " 'The system shall allow user to enter the customer and product information for the support ',\n",
       " 'The system shall display the customer support contact numbers on the screen ',\n",
       " 'The system shall allow user to enter the contact number for support personnel to call ',\n",
       " 'The system shall display the online help upon request ',\n",
       " 'The system shall display the FAQ upon request ',\n",
       " 'The system shall maintain customer email information as a required part of customer profile ',\n",
       " 'The system shall send an order confirmation to the user through email ',\n",
       " 'The system shall display detailed invoice for current order once it is confirmed ',\n",
       " 'The system shall optionally allow user to print the invoice ',\n",
       " 'The system shall provide shopping cart during online purchase ',\n",
       " 'The system shall allow user to add remove products in the shopping cart ',\n",
       " 'The system shall display different shipping options provided by shipping department ',\n",
       " 'The system shall enable user to select the shipping method during payment process ',\n",
       " 'The system shall display the shipping charges ',\n",
       " 'The system shall display tentative duration for shipping ',\n",
       " 'The system shall allow user to enter the order information for tracking ',\n",
       " 'The system shall display the current tracking information about the order ',\n",
       " 'The system shall calculate tax for the order ',\n",
       " 'The system shall display tax information for the order ',\n",
       " 'The system shall display available payment methods for payment ',\n",
       " 'The system shall allow user to select the payment method for order ',\n",
       " 'The system shall display the orders that are eligible to change ',\n",
       " 'The system shall allow user to select the order to be changed ',\n",
       " 'The system shall allow user to cancel the order ',\n",
       " 'The system shall allow user to change shipping payment method ',\n",
       " 'The system shall notify the user about any changes made to the order ',\n",
       " 'The system shall display the reviews and ratings of each product when it is selected ',\n",
       " 'The system shall enable the user to enter their reviews and ratings ',\n",
       " 'The system shall display all the available financing options ',\n",
       " 'The system shall allow user to select the financing option ',\n",
       " 'The system shall notify the use about the financing request ',\n",
       " 'The system shall allow user to view detailed sitemap ',\n",
       " 'The system shall display all the available promotions to the user ',\n",
       " 'The system shall allow user to select available promotion ',\n",
       " 'The system shall allow user to confirm the purchase ',\n",
       " 'The system shall enable user to enter the payment information ',\n",
       " 'The system shall provide a uniform look and feel between all the web pages ',\n",
       " 'The system shall provide a digital image for each product in the product catalog ',\n",
       " 'The system shall provide use of icons and toolbars ',\n",
       " 'The system shall provide handicap access ',\n",
       " 'The system shall provide multi language support ',\n",
       " 'The system shall provide storage of all databases on redundant computers with automatic switchover ',\n",
       " 'The system shall provide for replication of databases to off site storage locations ',\n",
       " 'The system shall provide RAID V Disk Stripping on all database storage disks ',\n",
       " 'The system shall provide a contractual agreement with an internet service provider for T3 access with 99 9999 availability ',\n",
       " 'The system shall provide a contractual agreement with an internet service provider who can provide 99 999 availability through their network facilities onto the internet ',\n",
       " 'The product shall be based on web and has to be run from a web server ',\n",
       " 'The product shall take initial load time depending on internet connection strength which also depends on the media from which the product is run ',\n",
       " 'The performance shall depend upon hardware components of the client customer ',\n",
       " 'The system shall use secure sockets in all transactions that include any confidential customer information ',\n",
       " 'The system shall automatically log out all customers after a period of inactivity ',\n",
       " 'The system shall confirm all transactions with the customer s web browser ',\n",
       " 'The system shall not leave any cookies on the customer s computer containing the user s password ',\n",
       " 'The system shall not leave any cookies on the customer s computer containing any of the user s confidential information ',\n",
       " 'The customer s web browser shall never display a customer s password It shall always be echoed with special characters representing typed characters ',\n",
       " 'The customers web browser shall never display a customers credit card number after retrieving from the database It shall always be shown with just the last 4 digits of the credit card number ',\n",
       " 'The systems back end servers shall never display a customers password The customers password may be reset but never shown ',\n",
       " 'The systems back end servers shall only be accessible to authenticated administrators ',\n",
       " 'The systems back end databases shall be encrypted ',\n",
       " 'The source code developed for this system shall be maintained in configuration management tool ',\n",
       " 'The system shall be built using a standard web page development tool that conforms to either IBM CUA standards or Microsoft GUI standards ',\n",
       " 'The systems are no memory requirements ',\n",
       " 'The computers must be equipped with web browsers such as Internet explorer ',\n",
       " 'The product must be stored in such a way that allows the client easy access to it ',\n",
       " 'Response time for loading the product should take no longer than five minutes ',\n",
       " 'A general knowledge of basic computer skills is required to use the product ',\n",
       " 'As the product is E store On line help system becomes a critical component of the system which shall provide ',\n",
       " 'The system shall provide specific guidelines to a user for using the E Store system and within the system ',\n",
       " 'the systems shall be provided to implement online user help link and search fields ',\n",
       " 'The Systems are many types of interfaces as such supported by the E Store software system namely User Interface Software Interface and Hardware Interface ',\n",
       " 'The protocol used shall be HTTP ',\n",
       " 'The Port used will be 80 ',\n",
       " 'The Port be logical address of the system in IPv4 format ',\n",
       " 'The user interface for the software shall be compatible to any browser such as Internet Explorer Mozilla or Netscape Navigator by which user can access to the system ',\n",
       " 'The user interface shall be implemented using any tool or software package like Java Applet MS Front Page EJB etc ',\n",
       " 'Since the application must run over the internet all the hardware shall require to connect internet will be hardware interface for the system As for e g Modem WAN and LAN Ethernet Cross Cable ',\n",
       " 'The e store system shall communicate with the Configurator to identify all the available components to configure the product ',\n",
       " 'The e store shall communicate with the content manager to get the product specifications offerings and promotions ',\n",
       " 'The e store system shall communicate with billPay system to identify available payment methods validate the payments and process payment ',\n",
       " 'The e store system shall communicate to credit management system for handling financing options ',\n",
       " 'The e store system shall communicate with CRM system to provide support ',\n",
       " 'The e store system shall communicate with Sales system for order management ',\n",
       " 'The e store system shall communicate with shipping system for tracking orders and updating of shipping methods ',\n",
       " 'The e store system shall communicate with external Tax system to calculate tax ',\n",
       " 'The e store system shall communicate with export regulation system to validate export regulations ',\n",
       " 'The system shall be verisign like software which shall allow the users to complete secured transaction This usually shall be the third party software system which is widely used for internet transaction ',\n",
       " 'The e store system shall use the HTTP protocol for communication over the internet and for the intranet communication will be through TCP IP protocol suite ',\n",
       " 'E store should display the disclaimers copyright word mark trademark and product warranties of the Marvel electronics and home entertainment ',\n",
       " 'E store shall be as per the industry standard ',\n",
       " 'The only requirements besides having an iPhone will be having a Twitter account and internet acces',\n",
       " 'The Twitter client is a two monts project that cost us almost seventy million dollars ',\n",
       " 'The data objects that are while used inside the application will be tested using black box testing ',\n",
       " 'They will provide all the information the user wants to see based on what he or she inputs',\n",
       " 'The user is the main data object of the client s system ',\n",
       " 'The user will log into the client by supplying a username and password ',\n",
       " 'If the user does not already have a Twitter account then they will have to create one in order to log into the client',\n",
       " 'After logging in the user will then be able to use a search box for any anything they may want to search for or they can enter a new Tweet for their own account ',\n",
       " 'The user will also be able to select who to follow and whether or not to allow someone to follow them ',\n",
       " 'The user s Twitter page is designed using user centered design approach ',\n",
       " 'This is where all the users Tweets are displayed and also the list of whom he or she is following or who is following them ',\n",
       " 'As the user enters new Tweets or someone tags his or her name in a Tweet the page will change ',\n",
       " 'The new page must be updated every time a change occurs ',\n",
       " 'A tweet is an object of a class Tweet that has attribute message source and destination ',\n",
       " 'A Tweet will be input by the user of the client ',\n",
       " 'A Tweet can be any sort of text as long as it is under the maximum number of characters allowed per Tweet ',\n",
       " 'A newly entered Tweet will appear on the user s Twitter page upon submission ',\n",
       " 'Each pages on Twitter are also an object of a class Tweet ',\n",
       " 'The user will be able to access other pages by either searching or clicking a linked page on their page ',\n",
       " 'The client would not be appealing if only the user s page could be accessed so ability to access other pages is essential ',\n",
       " 'A trending topics page will be very useful to the user because it will keep them up to date on what is popular ',\n",
       " 'The user will enter a Tweet that can be seen by themselves and anyone who is following them ',\n",
       " 'If the user is tagged in a tweet it will immediately be viewable by the user ',\n",
       " 'The user has the ability to search for other Twitter pages by using a search box ',\n",
       " 'The Twitter client will store data only in one location ',\n",
       " 'The only data that will be stored will be the users username and password to increase ease of access ',\n",
       " 'The tweets that the user enters and the tweets that the user is tagged in will all be handled by the Twitter API that we will be working with ',\n",
       " 'The searches that the user submits do not need to be saved so they will not be ',\n",
       " 'A user will enter his her credentials into the proper fields and the user will be logged into the Twitter system ',\n",
       " 'User will be given option to remember credentials so further input at startup is not necessary ',\n",
       " 'When the user clicks logout all personal data will be removed and all program data will be wiped ',\n",
       " 'The user s password will be removed and the user will be forced to re enter their credentials at next startup ',\n",
       " 'Once the user has successfully logged into the Twitter system the users Twitter feed will be displayed on the screen ',\n",
       " 'The number of previous data displayed will be preset by the user in the preferences pane ',\n",
       " 'A new view will display and show a composition window with various rich text and multimedia options ',\n",
       " 'The user can then enter his her tweet and submit it to the Twitter system ',\n",
       " 'The tweet will be immediately displayed on the users feed ',\n",
       " 'When in the composition window the user will be prompted with an image picker which will allow the user to insert an image from the users device ',\n",
       " 'When in the composition windows the camera display will be shown and once the image is taken the user will be given the option to keep re taking ',\n",
       " 'If the user keeps the photo it will be used in the composition window if the user selects re take the photo will be deleted and the camera display will be shown again ',\n",
       " 'The user will be prompted to insert existing voice memo or take a new voice memo ',\n",
       " 'The user will be prompted with a clip picker so the user may select a pre existing clip on their device ',\n",
       " 'The user will be shown the voice memo window in which he she may record a new voice memo ',\n",
       " 'The user will then have the option to hear the voice memo before submitting ',\n",
       " 'Once listened to the user may select keep or re record ',\n",
       " 'If the user decides to keep the memo the memo will be inserted into the composition window ',\n",
       " 'If the user decided to re record the memo will be removed and the user will be shown the voice memo window again ',\n",
       " 'This function will display all mentions of the users handle or username in the Twitter system ',\n",
       " 'This function will display a search window in which the user can search for specific words in Tweets ',\n",
       " 'The window will also offer the ability to search for users on Twitter ',\n",
       " 'This window will display the users Direct Message or DM inbox ',\n",
       " 'This function will also allow the user to compose a new message delete current messages and read existing messages in greater detail ',\n",
       " 'This function will display topics which are currently trending on twitter ',\n",
       " 'The order of the topics will be determined by the items rise in popularity over a given timeline ',\n",
       " 'This function will display a preferences view which will contain various settings which the user may change based on preference ',\n",
       " 'The Twitter client will run natively on all iOS devices including the iPod touch and iPad ',\n",
       " 'The client will be designed specifically for the iPhone iPod Touch but it will retain the same functionality on the iPad ',\n",
       " 'The Twitter client will rely heavily on the Twitter API for retrieval of user data ',\n",
       " 'The client must work closely with the programmer to make sure that the project would be a successful one ',\n",
       " 'The client application will be designed to work with the latest API available and is based on Apple technology ',\n",
       " 'The client will utilize a common design theme throughout the entire system ',\n",
       " 'The application will contain multiple views each of which will serve some primary function ',\n",
       " 'Each of these interfaces will differ only in content but will maintain similar design themes ',\n",
       " 'The interface will utilize a fluid and robust interface it will be easy to understand and will not require a tutorial for first use although one will be provided ',\n",
       " 'A meeting initiator shall initiate a meeting by deciding on a meeting topic by selecting a list of potential meeting participants and by selecting a date range duration and location for the meeting ',\n",
       " 'A meeting initiator or potential meeting participant shall provide the ability where a person may delegate the ability to initiate or accept or decline a meeting to another system user ',\n",
       " 'A meeting initiator shall be one of the potential meeting participants by default but may opt to remove himself as a potential meeting participant ',\n",
       " 'A meeting initiator shall confirm the meeting and the system shall change the time slots of accepting meeting participants from a temporary reservation to a scheduled meeting once all potential meeting participants have responded to the meeting proposal ',\n",
       " 'A meeting initiator shall cancel the meeting and the system shall change the time slots from being temporarily reserved to be freed once the meeting is canceled ',\n",
       " 'A meeting initiator shall reschedule the meeting and the system reschedule the meeting by releasing the temporary reservations and selecting a different data range duration or location and starting the process over ',\n",
       " 'A meeting initiator may send a meeting proposal for a virtual meeting for the available time slot if the date range and duration is acceptable but no location for the meeting is available ',\n",
       " 'A meeting initiator may cancel the meeting or reschedule the meeting at any time prior to the start of the meeting ',\n",
       " 'A meeting scheduler may optionally automatically propose another meeting if current meeting is canceled by an important participant ',\n",
       " 'A meeting scheduler may provide the meeting initiator a summary of the scan of potential meeting participants showing available time slots and schedule conflicts as a means of informing the meeting initiator of the overall results of the system ',\n",
       " 'The meeting initiator may designate one or more potential meeting participants as important meaning that their attendance at the meeting is required in order to have the meeting ',\n",
       " 'The meeting proposal may include an agenda or list of topics for discussion during the meeting and may include a list of required equipments ',\n",
       " 'A meeting scheduler will scan all the list of potential meeting participants to determine a time slot of the required duration exists among all potential meeting participants once a meeting proposal is entered to the system ',\n",
       " 'A meeting scheduler will inform the meeting initiator that no time slot exists for all potential meeting participants and may optionally suggest an alternative date range duration and location which is available ',\n",
       " 'A meeting scheduler will temporarily reserve the time slots for the proposed meeting and inform the potential meeting participant of the meeting and request input as to will attend or will not attend if a time slot exists ',\n",
       " 'A potential meeting participant or their delegate may accept or refuse the meeting If accepting the potential meeting participant becomes a confirmed meeting participant If refusing the potential meeting participant may provide a reason for his refusal ',\n",
       " 'A confirmed meeting participant may request special equipment ',\n",
       " 'A potential meeting participant or confirmed meeting participant may confirm or cancel their attendance at the meeting subject to the administrative rules and practices of the participant s ',\n",
       " 'Any physical changes to the location and its required equipment shall be kept up to date ',\n",
       " 'If any physical changes to the location and its required equipments shall occur after a meeting proposal and before the meeting date the meeting initiator shall be notified promptly ',\n",
       " 'The meeting scheduler system shall be able to schedule a meeting with a meeting topic date range duration and location for a list of participants ',\n",
       " 'The meeting scheduler system shall monitor meetings since some of the meeting held as a virtual meeting ',\n",
       " 'The meeting scheduler system shall be able to select a participant as an important participant ',\n",
       " 'The meeting scheduler system shall cancel a meeting due to canceling of an important participant ',\n",
       " 'The meeting scheduler system shall reschedule a meeting to support conflict resolutions ',\n",
       " 'The meeting scheduler shall be available online by the end of this year ',\n",
       " 'The meeting scheduler system may optionally automatically propose another meeting if current meeting is canceled by an important participant ',\n",
       " 'The meeting scheduler system may provide the meeting initiator a summary of the scan of potential meeting participants showing available time slots and schedule conflicts as a means of informing the meeting initiator of the overall results of the system ',\n",
       " 'The meeting scheduler system may be able to include an agenda for a meeting proposal ',\n",
       " 'The meeting scheduler system may suggest a virtual meeting for available time slots if no location is available or feasible for the meeting ',\n",
       " 'The meeting scheduler system may be able to include a list of required equipment for a meeting proposal ',\n",
       " 'A meeting scheduler system will temporarily reserve the time slots for the proposed meeting ',\n",
       " 'A meeting scheduler system will inform the potential meeting participant of the meeting ',\n",
       " 'Items are bought from various vendors located in or outside United States ',\n",
       " 'The buyer get in contact with various vendors and create catalog list of items from where the Store Managers of every store buy items for their store ',\n",
       " 'The Online system will give the advantage of keeping track of all purchase orders at any given point of time thus eliminating paperwork and in turn error caused by it',\n",
       " 'All The above users have similar rights ',\n",
       " 'They have total access the BPMS system ',\n",
       " 'They have the rights to generate new users in the system ',\n",
       " 'They will have the total access to all the transaction reports in the accounting system being a people from the management team of the organization ',\n",
       " 'District manager may have more than 1 store under him ',\n",
       " 'He logs in he sees only stores under him i e a list of his stores and toggle between them ',\n",
       " 'He should have managerial type access only for those stores that are under him ',\n",
       " 'The Store Manager and Assistant Store Manager have limited access in the BPMS ',\n",
       " 'They will be able to see the details restricted to their Store only ',\n",
       " 'Cost of items bought will not be disclosed',\n",
       " 'The comparison with other vendor items will not shown',\n",
       " 'he Enter the details of Sales for his store registers',\n",
       " 'The usage of the system will be restricted only to add cash registers and changing his password',\n",
       " 'The Stores will have limited Internet access that is the usage of BPMS system online rest of the Internet will not be accessible ',\n",
       " 'The product provides the members with online blocking of books capabilities and the Online Library System is up and running all day ',\n",
       " 'The system provides logon facility to the users ',\n",
       " 'The system provides the members with the option to check their account and or change their options like password of the account whenever needed all through the day during the library hours ',\n",
       " 'The system allows the members to block the books 24 hours a day and all the through the semester ',\n",
       " 'The system lets the library staff to check which all members have blocked the books and whether they can borrow any more books or not ',\n",
       " 'The system allows the Librarian to create the books catalog add delete books and maintain the books catalog ',\n",
       " 'The system updates the billing system as and when the member borrows or returns a book ',\n",
       " 'The book catalog is automated and the decision of offering the book based on the category of the book is automatically decided ',\n",
       " 'We also have an order department which manages to add or remove a book from the Library ',\n",
       " 'The member should be provided with the updated information about the books catalog ',\n",
       " 'Provisions for the members to borrow the books they want if all the other required rules hold good ',\n",
       " 'The member is given a provision to use all facility within the gym within the operational hour without having to bring his her member card ',\n",
       " 'The members are provided with the books available roster and allowed to choose the books which they want to use in the coming up days ',\n",
       " 'The librarian can get the information about the members who have borrowed or returned the books ',\n",
       " 'The librarian is provided with interfaces to add delete the books available in the book catalog ',\n",
       " 'The members when complete the book borrowing or returning process the due to be paid by the member must be calculated and the information about the member and the due amount is sent to the university billing system ',\n",
       " 'The system uses the University information security requirements to provide the login facility to the users ',\n",
       " 'The information of all the users must be stored in a database that is accessible by the Online Library System ',\n",
       " 'The university information security system is a system design to make sure that all internet applications within the university are secured at all times ',\n",
       " 'The Online Library System is connected to the university computer and is running all 24 hours a day ',\n",
       " 'The users access the Wiley Online Library System by paying monthly fee starting from US 2 up to US 10 with respect to their access frequency ',\n",
       " 'The billing system is connected to the Online Library System and the database used by the billing system must be compatible with the interface of the Online Library System ',\n",
       " 'The users must have their correct usernames and passwords to enter into the Online Library System ',\n",
       " 'The users should have pass high school to be allowed to register to the university this year ',\n",
       " 'The University computer should have Internet connection and Internet server capabilities ',\n",
       " 'The users know the English language as the user interface will be provided in English',\n",
       " 'The product can access the university student database',\n",
       " 'The system shall provide the users with logon capabilities ',\n",
       " 'The Online Library System is also supported on mobile devices such as cell phones ',\n",
       " 'The system can alert the Librarian or the administrator in case of any problems ',\n",
       " 'The system shall allow the users to access the system from the Internet using HTML or it s derivative technologies ',\n",
       " 'The system uses a web browser as an interface ',\n",
       " 'Since all users are familiar with the general usage of browsers we won t have to provide rigorious training this month ',\n",
       " 'The system is user friendly and self explanatory ',\n",
       " 'The system has to be very reliable due to the importance of data and the damages incorrect or incomplete data can do ',\n",
       " 'The system is available 100 for the user and is used 24 hrs a day and 365 days a year ',\n",
       " 'The system shall be operational 24 hours a day and 7 days a week ',\n",
       " 'The system will be developed in such a way that it may fail once in a year ',\n",
       " 'Even if the system fails the system will be recovered back up within an hour or less ',\n",
       " 'The accuracy of the system is limited by the accuracy of the speed at which the employees of the library and users of the library use the system ',\n",
       " 'The system shall provide 100 access reliability ',\n",
       " 'The Splash Page or Information page should be able to be downloaded within a minute using a 56K modem ',\n",
       " 'The information is refreshed every two minutes ',\n",
       " 'The access time for a mobile device should be less than a minute ',\n",
       " 'The system shall respond to the member in not less than two seconds from the time of the request submittal ',\n",
       " 'The system shall be allowed to take more time when doing large processing jobs ',\n",
       " 'The system shall take as less time as possible to provide service to the administrator or the librarian ',\n",
       " 'The number of transactions is directly dependent on the number of users the users may be the Librarian employees of the Library and also the people who use the Library for checking out books returning books and checking online library account ',\n",
       " 'The system is capable of handling 250 users at a time ',\n",
       " 'The resources are modified according the user requirements and also according to the books requested by the users ',\n",
       " 'The system designers shall take in to considerations the following supportability and technical limitations ',\n",
       " 'The system shall be comply with the TCP IP protocol standards and shall be designed accordingly ',\n",
       " 'The system shall support the UHCL information security requirements and use the same standard as the UHCL information security requirements ',\n",
       " 'The member balance amount that will be calculated and sent to the billing system shall be compatible with the data types and design constraints of the billing system ',\n",
       " 'The maintenance of the system shall be done as per the maintenance contract ',\n",
       " 'The coding standards and naming conventions will be as per the American standards ',\n",
       " 'The languages that shall be used for coding the Online Library System are Active Server Pages ASP Java Servlets Java Server Pages JSP HTML JavaScript and VBScript ',\n",
       " 'For working on the coding phase of the Online Library System the Internet Information Services IIS Server needs to be installed ',\n",
       " 'Also we need to develop some new libraries for the web based application ',\n",
       " 'Online help is provided for each of the feature available with the Online Library System ',\n",
       " 'All the applications provide an on line help system to assist the user ',\n",
       " 'The nature of these systems is unique to application development as they combine aspects of programming hyperlinks etc with aspects of technical writing organization presentation ',\n",
       " 'Online help is provided for each and every feature provided by the system ',\n",
       " 'The User Manual describes the use of the system to Librarian and Employees ',\n",
       " 'It describes the use of the system on mobile systems ',\n",
       " 'The user manual should be available as a hard copy and also as online help ',\n",
       " 'An installation document will be provided that includes the installation instructions and configuration guidelines which is important to a full solution offering ',\n",
       " 'Also a Read Me file is typically included as a standard component ',\n",
       " 'The Read Me includes a What s New With This Release section and a discussion of compatibility issues with earlier releases ',\n",
       " 'Most users also appreciate documentation defining any known bugs and workarounds in the Read Me file ',\n",
       " 'Since the installation of Online Library System is a complex process our experts will do it ',\n",
       " 'So an installation Guide will not be provided to the user ',\n",
       " 'The System Administrator will need to purchase the license for IIS Server ',\n",
       " 'Mostly it is available on the online shop and local supermarket ',\n",
       " 'So you have to make sure that the system need not purchase any licensing products from Microsoft ',\n",
       " 'The user interface of the system shall be designed as shown in the user interface prototypes ',\n",
       " 'The existing Local Area Network LAN will be used for collecting data from the users and also for updating the Library Catalogue ',\n",
       " 'A firewall will be used with the server to prevent unauthorized access to the system ',\n",
       " 'The Online Library System will be connected to the World Wide Web ',\n",
       " 'The usage is restricted to only University of Houston Clearlake Library who is purchasing the Online Library System from Library InfoSys and signs the maintenance contract ',\n",
       " 'Online Library System is a trademark of Library InfoSys and cannot be used without its consent ',\n",
       " 'A user shall have a bank account ',\n",
       " 'An account is either an administrator account a scientist account or an observer account ',\n",
       " 'IMSETY shall be a multi user system ',\n",
       " 'IMSETY shall require users to be logged in before they can use any of the system s functionality ',\n",
       " 'IMSETY shall not allow administrators and scientists to be logged in more than once ',\n",
       " 'IMSETY shall include a demonstration experiment ',\n",
       " 'A user shall only be able to use those parts of the system to which he is authorized ',\n",
       " 'Observers shall not be authorized to submit question to system administrator ',\n",
       " 'IMSETY shall adhere to table 2 1 for user rights ',\n",
       " 'IMSETY shall adhere to table 2 1 for group rights ',\n",
       " 'An administrator shall be able to register a satellite with the system ',\n",
       " 'An administrator shall be able to retrieve the information of a registered satellite ',\n",
       " 'An administrator shall be able to update the information of a registered satellite ',\n",
       " 'An administrator shall be able to unregister a satellite with the system ',\n",
       " 'An administrator shall be able to register a payload with the system ',\n",
       " 'An administrator shall be able to configure whether multiple experiments may be executed simultaneously on a particular satellite ',\n",
       " 'An administrator shall be able to retrieve the information of a registered payload ',\n",
       " 'An administrator shall be able to update the information of a registered payload ',\n",
       " 'At any moment only one administrator is allowed to update the information of a single payload registration ',\n",
       " 'An administrator shall be able to unregister a payload with the system ',\n",
       " 'An administrator shall be able to link a registered payload to exactly one satellite ',\n",
       " 'IMSETY shall allow an administrator to create an account ',\n",
       " 'IMSETY shall allow an administrator to retrieve account information ',\n",
       " 'IMSETY shall allow an administrator to configure all plug ins for the system ',\n",
       " 'IMSETY shall allow an administrator to update account information ',\n",
       " 'IMSETY shall allow an administrator to delete an account ',\n",
       " 'IMSETY shall allow an administrator to configure which users have particular rights to which payloads ',\n",
       " 'IMSETY shall allow an administrator to set up possible payload specific commands through a plain text file ',\n",
       " 'IMSETY shall allow an administrator to set up possible satellite commands through an interface ',\n",
       " 'IMSETY shall allow scientists to retrieve experiment details ',\n",
       " 'IMSETY shall communicate a list of payload specific commands to the scientist ',\n",
       " 'IMSETY shall let scientists select commands from this list and thereby compose an experiment ',\n",
       " 'IMSETY shall not allow scientists to type in commands directly ',\n",
       " 'A scientist shall be able to request the scheduling of the execution of experiments on a predefined moment ',\n",
       " 'A scientist shall be able to request an experiment which has not yet been executed to be unscheduled ',\n",
       " 'A scientist shall be able to request to change an experiment before it is being executed ',\n",
       " 'A scientist shall be able to send commands to an experiment already executing ',\n",
       " 'At any moment only one scientist is allowed to compose an experiment on a single payload ',\n",
       " 'The system shall upload experiments scheduled and queued for upload to a satellite whenever there is a window of opportunity ',\n",
       " 'The system shall download high volume image data of earth from the satelite periodically within the time frame ',\n",
       " 'Experiment data can be retrieved from the system ',\n",
       " 'Experiment data can be observed in real time while the experiment is being executed during a window of opportunity ',\n",
       " 'IMSETY will support the visualization of video data ',\n",
       " 'IMSETY will support the visualization of picture data ',\n",
       " 'IMSETY will have a plug in system for data representation 290',\n",
       " 'IMSETY will have a plug in system for the postprocessing of data representations ',\n",
       " 'Observers are able to see representations ',\n",
       " 'Observation data can only be gathered during an experiment ',\n",
       " 'Collected observation data can be exported from the system to several formats ',\n",
       " 'IMSETY shall allow the requesting of downloading of high resolution images from these marked periods ',\n",
       " 'Periods can be marked during real time observation ',\n",
       " 'A plug in system for data preprocessing shall be provided ',\n",
       " 'A plug in providing an example for data preprocessing will be provided ',\n",
       " 'A plug in providing an example of representation postprocessing will be provided ',\n",
       " 'The system shall show thumbnails provided by a satellite ',\n",
       " 'IMSETY shall allow a scientist to request high resolution versions of the images represented by these thumbnails to be downloaded ',\n",
       " 'IMSETY shall represent a timeline of one way and two way communication opportunities ',\n",
       " 'IMSETY shall provide the possibility to book one way communications 310',\n",
       " 'IMSETY shall provide the possibility to book two way communications ',\n",
       " 'IMSETY shall communicate failure of satellite communication to the scientist ',\n",
       " 'IMSETY shall communicate failure of communication with GENSO to the scientist ',\n",
       " 'IMSETY shall communicate the rejection of bookings to the scientist ',\n",
       " 'IMSETY shall log all communications with satellites 315',\n",
       " 'IMSETY shall log all communications with the MCCs ',\n",
       " 'IMSETY shall log all communications with the MCSes ',\n",
       " 'The system shall interface with GENSO through an MCC for purposes of booking ',\n",
       " 'The system shall interface with an SiC for communication settlement ',\n",
       " 'A protocol shall be defined for interfacing with the MCS based on a list of commands provided by the customer ',\n",
       " 'The interface of the system shall be developed using C C or java Any opensource library are not supposed to be used for that matter',\n",
       " 'IMSETY s backend shall run on a Linux server ',\n",
       " 'Manage course information the general user can use the system to enter and modify course information The local database maintains the information ',\n",
       " 'Manage student information the general user can use the system to enter and modify student information or to download student information from the university database In addition the user can delete a student from a course The local database maintains the information ',\n",
       " 'Enter outcomes the general user can use the system to enter course outcomes The user can assign a ranking to each course outcome The local database maintains the information ',\n",
       " 'the general user can use the system to select one of two types of targeted competencies that can be used to automatically check progress toward achieving course outcomes ',\n",
       " 'the general user can use the system to map course outcomes to program outcomes to map AIUs to course outcomes and to map course outcomes to targeted competencies ',\n",
       " 'The general user can use the system to enter information related to an AI ',\n",
       " 'Modify AIs the general user can use the system to modify information related to an AI The local database maintains the information ',\n",
       " 'Enter grades the general user can use the system to enter student grades related to an AI and to enter formulae for calculating grades The local database maintains the information ',\n",
       " 'Archive course and student information the general user can use the system to archive course and student information to the central database from the local database at the end of the semester ',\n",
       " 'Access the system the general user can access the system through a unique login name and password ',\n",
       " 'Open course the general user can select a course from the list of courses that s he owns ',\n",
       " 'Set password The user can set the password for accessing and entering information on the course ',\n",
       " 'Set property list The user can set the property list that gives the login names for the users who can access a course ',\n",
       " 'Enter formula the general user can define the formulas that will be used to calculate students grades on an AI assessment category or course ',\n",
       " 'The system will not be accessible to unauthorized users ',\n",
       " 'All data transmitted to the central database will be encrypted ',\n",
       " 'According to the term of reference TOR the software development should be completed by the end of April 2001 The development team should deploy the system to the production environment within 6 months after the completion ',\n",
       " 'The university database is the banner system which plays the central roles within the enterprise architecture The system is maintained by the central for computation and services',\n",
       " 'Each professor has access to a desktop computer ',\n",
       " 'A table with login and password has been set up for each professor in the departments of the College of Engineering and is maintained in the local database ',\n",
       " 'The initial login and password for general users will be encrypted ',\n",
       " 'The timeframe to upload data to the central database is the day that grades are due to the university and one week before the start of the new semester ',\n",
       " 'Student outcomes that include course outcomes ABET outcomes a k and additional program outcomes are stored in the local database ',\n",
       " 'Once a student is dropped the information associated with the student cannot be removed or modified ',\n",
       " 'PHP IDE s main user objective is to answer all PHP developer needs ',\n",
       " 'A PHP project contains source code and related files for maintaining a PHP Application A PHP project can be organized in two different ways using the project as the source container Using source folders inside the project as the source container ',\n",
       " 'A wizard is available for creating a PHP project The wizard can be access by the Project Wizard in eclipse File New Project In the Project Wizard there will be a project type named PHP Project that will launch the create PHP project wizard ',\n",
       " 'When in the PHP perspective a Create PHP project wizard icon will be on the tool bar and a File New PHP Project will exist on the menu ',\n",
       " 'PHP Version The user should be able to choose between PHP4 and PHP5 and by that change all related components code assist syntax coloring and PHP functions ',\n",
       " 'ASP tags support as PHP tags for all PHP actions and parsing ',\n",
       " 'Default File Encoding The project will support a default encoding that will be used for all files created in the project Location The location of the project The default location when a project is created is the eclipse workspace When a location is specified any directory file at that location will be part of the project Only the developer s data files will reside at the location Eclipse internal project files will reside in a eclipse internal directory ',\n",
       " 'The PHP project will support a properties menu item to display the properties of a project ',\n",
       " 'Files can be added to a project by the following methods Import from File System Drag and Drop ',\n",
       " 'Any file that is not added to a project using the New PHP file Wizard will be given the default file encoding of the project ',\n",
       " 'A project can be saved retrieved and synchronized with a CVS repository All the properties of the project and files in the project encoding version etc will be saved retrieved and synchronized with the repository ',\n",
       " 'These are the menu items that affect a PHP project There may be other items on the Project Menu because eclipse supports other types of projects The Project Menu items vary based on the project selected ',\n",
       " 'During typing the PHP inspector is run and highlighting of errors a squiggly line under the code occurs for the file Errors detected during typing are not displayed in the problems view The build options in the project menu determine when the eclipse builder is run The eclipse builder is potentially a long running operation Depending on the changes made every file in the workspace could be rebuilt Eclipse attempts to determine the files that have changed based on the project dependencies The eclipse builder is run as a background task so that the developer can continue to work Problems detected during the build phase will show up in the problems view and will be highlighted using a squiggly line under the code ',\n",
       " 'When a project is closed it can no longer be changed and its resources no longer appear in the Package Explorer Project Outline View etc To re open the project select the project in the PHP Explorer View and click on Open Project Eclipse doesn t have a concept of prj files ',\n",
       " 'Some of the menu items may be handled by the low level eclipse infrastructure and not require implementation by the PHP project Other are open issues to be resolved but are listed here since they will show up in the Menu unless some specific action is taken to turn them off ',\n",
       " 'When a location is specified any directory file at that location will be part of the project Only the developer s data files will reside at the location Eclipse internal project files will reside in a eclipse internal directory ',\n",
       " 'The ability to create a PHP file with the following properties will be supported ',\n",
       " 'A Local history of a file is maintained when you create or modify a file Each time you edit and save a file a copy of it is saved This allows you to compare your current file state to a previous state or replace the file with a previous state Each state in the local history is identified by the date and time the file was saved ',\n",
       " 'If the project is being maintained in CVS the option to compare replace restore etc the file from CVS will be supported Anytime a PHP file is synchronized with a CVS repository the properties of a file are transferred encoding ',\n",
       " 'The PHP Inspector is responsible for analyzing all PHP code files in an Eclipse Platform The PHP inspector should inspect the following PHP Elements PHP classes including the following data File name Positions Modifier ',\n",
       " 'This is the source of all PHP language classes functions and constants ',\n",
       " 'Format of PHP files that can be editable ',\n",
       " 'The file should be located as part of the plugin installation directory in a lib directory ',\n",
       " 'Two files should be included phpFunctions4 php phpFunctions5 php',\n",
       " 'Any change in these files will effect the following in all projects ',\n",
       " 'PHP Editor should extend the Web Tools text editor and should inherit all its capabilities and actions The PHP Editor should allow working on more then one programming language at the same time PHP HTML ',\n",
       " 'Syntax Coloring PHP Editor should color several languages at the same time The Syntax Coloring should be customizable through the Editor preferences ',\n",
       " 'Should support both PHP 4 and PHP 5 see PHP Project PHP Version ',\n",
       " 'The PHP editor will have a wizard that will support the following search options Classes Functions Constants Variables ',\n",
       " 'The scope of files searched can be limited to Workspace Selected Resources Enclosing Projects and Working Set When the search is completed the PHP will open a search view with the results Files when opened in the editor will be annotated with the search result ',\n",
       " 'Annotation is a piece of information attached to a certain region of a text document ',\n",
       " 'The editor will support moving to the next previous annotations by icons on the Tool Bar and menu items The editor will support the preferences set in annotation preference wizard supported by the Workbench ',\n",
       " 'Quick Diff provides color coded change indication while you are typing When the mouse cursor is placed over a change in the vertical ruler a hover displays the original content which can be restored using the ruler s context menu Quick Diff will support both local history and CVS ',\n",
       " 'The PHP Editor will support the standard eclipse Key Bindings ',\n",
       " 'The Outline view displays a Tree representation of the contents of the editor that is currently visible in the editor area of the workbench For PHP files the Outline should display elements like classes functions variables included files and constants It should optionally also display the content outside the PHP areas ex HTML XML CSS JavaScript ',\n",
       " 'PHP nodes support Add Delete Rename class function variable included file constant in the long future ',\n",
       " 'Other content Provide default behavior that is available on the other editors For example HTML content nodes should have the same context menu when in an HTML file ',\n",
       " 'Selection Selecting the Tree node in the Outline view highlights the represented element on the editor This should also work in the other direction meaning that the Outline view should highlight the node represented by the area under the editor s caret ',\n",
       " 'The Project Outline View is a new View to the Eclipse Platform This View is very similar to the Outline',\n",
       " 'View except that it should display the elements of the project correspondent to the opened file ',\n",
       " 'All other functionality should be identical to the Outline View This view is basically gathering of all Outline Views data of the entire project files Similar to the Package Explorer from the JDT the PHP Explorer shows the PHP element hierarchy of the PHP projects in the workbench It provides a PHP specific view of the resources shown in the Navigator ',\n",
       " 'The element hierarchy is derived from the project s build paths ',\n",
       " 'The PHP Explorer View will support using Working Set to determine the projects that are shown ',\n",
       " 'The actions right click menus of the Explorer view are derived form the Project actions appears in section 3 1 under Right Click Menu Items ',\n",
       " 'The Problems view should display all PHP errors and warnings Should include include files problem in the future All errors and warnings will have a description resource folder and location associated with them Resource refers to the php file containing the problem Folder refers to the directory containing the php file Location will refer to the line number containing the problem ',\n",
       " 'When a user clicks on a problem in the problems view the php file containing the error or warning will be displayed in the editor ',\n",
       " 'When a user clicks on a missing include file a file wizard will appear to add the file to the project ',\n",
       " 'Inspection The value of the following tags should be inspected abstract access author copyright deprecated example exception final global ignore internal link magic name return package param see since static staticvar subpackage throws todo var and version ',\n",
       " 'Code Assist for the list of tags appears above there should be code assist as well ',\n",
       " 'Adding description Outline view right click action to add description to the selected data Project Outline View right click action to add description to the selected data Code Assist Button and shortcut to add description to the selected data in the list if possible will be added in future versions ',\n",
       " 'In a document with PHP as well as other content i e HTML each content should have a Formatting strategy ',\n",
       " 'Invocation Formatting is initiated by either ctrl shift F key combination of through menu There should be both a global menu item and a context menu item ',\n",
       " 'Default encoding for each project will open file from the Explorer view with this encoding',\n",
       " 'File chooser will include a list of all available encoding options with the default encoding selected ',\n",
       " 'The system save file with a specific encoding or the default one ',\n",
       " 'This is a Toolbar and Menu option similar to the JDT s Open Type The JDT s version of Open Type is a dialog that allows the user to search for Classes and Interfaces and subsequently open the file that defines it For PHP this behavior will be extended for Classes Functions and Constants ',\n",
       " 'This view is an offline view of the PHP Manual http www php net download docs php The PHP IDE should be customizable to work with any downloaded version of the PHP Manual should support different languages The manual control will be supported by extension point to add new manuals from different sites ',\n",
       " 'The view should support Quick link from the editor depends on the caret location and the relevant function Link from the PHP functions list ',\n",
       " 'In eclipse Perspectives define the initial set and layout of views in the Workbench window ',\n",
       " 'The PHP perspective will include the following views PHP Explorer View Outline View Editor View Project Outline View Problems View PHP Manual View if possible with embedded browser problem PHP Functions View Search View after the first search ',\n",
       " 'The PHP perspective will save state views files opened etc when closed And reopen to the same state The PHP perspective will support customization through the Customize Perspective wizard The customized perspective can be saved under a user specified named It is possible for a developer to have multiple PHP perspectives with different customizations each with its own name The PHP perspective will also support resetting the perspective back to the default settings ',\n",
       " 'The Debug Perspective will present the user with common debugging tasks There will be toolbar buttons to stop pause and start execution The perspective will contain the following views ',\n",
       " 'Gather all TODO tasks from the entire PHP project files to a complete list as it is today The List should appear next to the Problems View TODO task should start with TODO ']"
      ]
     },
     "execution_count": 9,
     "metadata": {},
     "output_type": "execute_result"
    }
   ],
   "source": [
    "text_data_X.tolist()"
   ]
  },
  {
   "cell_type": "code",
   "execution_count": 7,
   "metadata": {},
   "outputs": [],
   "source": [
    "bert_tokenizer = DistilBertTokenizer.from_pretrained(\"distilbert-base-uncased\")"
   ]
  },
  {
   "cell_type": "code",
   "execution_count": 8,
   "metadata": {},
   "outputs": [],
   "source": [
    "with torch.no_grad():\n",
    "    tokenized_text_data_X = bert_tokenizer(\n",
    "        text_data_X.tolist(),\n",
    "        padding=\"max_length\",\n",
    "        return_tensors=\"pt\",\n",
    "        max_length=64,\n",
    "        truncation=True,\n",
    "    )"
   ]
  },
  {
   "cell_type": "code",
   "execution_count": 10,
   "metadata": {},
   "outputs": [],
   "source": [
    "tokenized_text_data_y = label_data_y.map({\"relevant\": 1, \"irrelevant\": 0}).to_numpy()\n",
    "# tokenized_text_data_y"
   ]
  },
  {
   "cell_type": "code",
   "execution_count": 11,
   "metadata": {},
   "outputs": [],
   "source": [
    "tokenized_text_data_X = {\n",
    "    key: val.to(MY_DEVICE) for key, val in tokenized_text_data_X.items()\n",
    "}"
   ]
  },
  {
   "cell_type": "code",
   "execution_count": 12,
   "metadata": {},
   "outputs": [
    {
     "data": {
      "text/plain": [
       "(torch.Size([621, 64]), torch.Size([621, 64]))"
      ]
     },
     "execution_count": 12,
     "metadata": {},
     "output_type": "execute_result"
    }
   ],
   "source": [
    "tokenized_text_data_X[\"input_ids\"].shape, tokenized_text_data_X[\"attention_mask\"].shape"
   ]
  },
  {
   "cell_type": "code",
   "execution_count": 14,
   "metadata": {},
   "outputs": [],
   "source": [
    "bert_model = DistilBertModel.from_pretrained(\n",
    "    \"distilbert-base-uncased\",\n",
    "    device_map=MY_DEVICE,\n",
    ")"
   ]
  },
  {
   "cell_type": "markdown",
   "metadata": {},
   "source": [
    "### Mixed Precision Calculation\n",
    "\n",
    "Mixed precsion is the use of both 16 and 32 bit float to optimize memory during training to make it run faster\n"
   ]
  },
  {
   "cell_type": "markdown",
   "metadata": {},
   "source": [
    "torch.cuda.amp.autocast() is\n"
   ]
  },
  {
   "cell_type": "code",
   "execution_count": 15,
   "metadata": {},
   "outputs": [],
   "source": [
    "with torch.cuda.amp.autocast():\n",
    "    outputs = bert_model(**tokenized_text_data_X)\n",
    "    last_hidden_states = outputs.last_hidden_state\n",
    "# outputs = bert_model(**tokenized_text_data_X)"
   ]
  },
  {
   "cell_type": "code",
   "execution_count": 32,
   "metadata": {},
   "outputs": [],
   "source": [
    "bert_model.save_pretrained(\n",
    "    \"../../../Models/requirement_relevancy_experiment/NLP_models/my_distilbert_model\"\n",
    ")"
   ]
  },
  {
   "cell_type": "code",
   "execution_count": null,
   "metadata": {},
   "outputs": [],
   "source": [
    "last_hidden_states"
   ]
  },
  {
   "cell_type": "code",
   "execution_count": 16,
   "metadata": {},
   "outputs": [],
   "source": [
    "torch.cuda.empty_cache()"
   ]
  },
  {
   "cell_type": "code",
   "execution_count": 17,
   "metadata": {},
   "outputs": [
    {
     "data": {
      "text/plain": [
       "(621, 49152)"
      ]
     },
     "execution_count": 17,
     "metadata": {},
     "output_type": "execute_result"
    }
   ],
   "source": [
    "reshaped_last_hidden_states_X = (\n",
    "    last_hidden_states.reshape(last_hidden_states.shape[0], -1).detach().cpu().numpy()\n",
    ")\n",
    "reshaped_last_hidden_states_X.shape"
   ]
  },
  {
   "cell_type": "code",
   "execution_count": 35,
   "metadata": {},
   "outputs": [],
   "source": [
    "np.savetxt(\n",
    "    \"../../../Datasets/irrelevant_requirements_dataset/distilbert_X.csv\",\n",
    "    reshaped_last_hidden_states_X,\n",
    "    delimiter=\",\",\n",
    ")"
   ]
  },
  {
   "cell_type": "code",
   "execution_count": null,
   "metadata": {},
   "outputs": [],
   "source": [
    "# Run this cell to load the saved DistilBERT model and the reshaped last hidden states\n",
    "\n",
    "# reshaped_last_hidden_states_X = np.loadtxt(\n",
    "#     \"../../../Datasets/irrelevant_requirements_dataset/distilbert_X.csv\",\n",
    "#     delimiter=\",\",\n",
    "# )\n",
    "\n",
    "# bert_model = DistilBertModel.from_pretrained(\n",
    "#     \"../../../Models/requirement_relevancy_experiment/NLP_models/my_distilbert_model\"\n",
    "# )"
   ]
  },
  {
   "cell_type": "markdown",
   "metadata": {},
   "source": [
    "## Oversampling Of Data\n",
    "\n",
    "The dataset is pretty imbalanced. So, we will oversample the data to make it balanced. We are currently analyzing various oversampling techniques. We will use the best one for our model. To know more about the various oversampling techniques, please refer to this [link](https://pypi.org/project/smote-variants/)\n"
   ]
  },
  {
   "cell_type": "markdown",
   "metadata": {},
   "source": [
    "### SMOTE\n",
    "\n",
    "SMOTE is an oversampling technique where the synthetic samples are generated for the minority class. This algorithm helps to overcome the overfitting problem posed by random oversampling. It randomly picks a point from the minority class and computes the k-nearest neighbors for this point. The synthetic points are added between the chosen point and its neighbors.\n"
   ]
  },
  {
   "cell_type": "code",
   "execution_count": 18,
   "metadata": {},
   "outputs": [],
   "source": [
    "import smote_variants as sv"
   ]
  },
  {
   "cell_type": "code",
   "execution_count": 19,
   "metadata": {},
   "outputs": [],
   "source": [
    "oversampler = sv.MulticlassOversampling(oversampler=\"SMOTE\")"
   ]
  },
  {
   "cell_type": "code",
   "execution_count": 20,
   "metadata": {},
   "outputs": [
    {
     "name": "stderr",
     "output_type": "stream",
     "text": [
      "2024-01-14 20:14:51,586:INFO:MulticlassOversampling: Running multiclass oversampling with strategy eq_1_vs_many_successive\n",
      "2024-01-14 20:14:51,617:INFO:MulticlassOversampling: Sampling minority class with label: 0\n",
      "2024-01-14 20:14:51,648:INFO:SMOTE: Running sampling via ('SMOTE', \"{'proportion': 1.0, 'n_neighbors': 5, 'nn_params': {}, 'n_jobs': 1, 'ss_params': {'n_dim': 2, 'simplex_sampling': 'random', 'within_simplex_sampling': 'random', 'gaussian_component': {}}, 'random_state': None, 'class_name': 'SMOTE'}\")\n",
      "2024-01-14 20:14:51,653:INFO:NearestNeighborsWithMetricTensor: NN fitting with metric minkowski\n",
      "2024-01-14 20:14:51,656:INFO:NearestNeighborsWithMetricTensor: kneighbors query minkowski\n",
      "2024-01-14 20:14:52,239:INFO:SMOTE: simplex sampling with n_dim 2\n"
     ]
    }
   ],
   "source": [
    "X_resampled, y_resampled = oversampler.sample(\n",
    "    reshaped_last_hidden_states_X, tokenized_text_data_y\n",
    ")"
   ]
  },
  {
   "cell_type": "code",
   "execution_count": 53,
   "metadata": {},
   "outputs": [],
   "source": [
    "# Save the resampled data\n",
    "\n",
    "np.savetxt(\n",
    "    \"../../../Datasets/irrelevant_requirements_dataset/distilbert_X_resampled.csv\",\n",
    "    X_resampled,\n",
    "    delimiter=\",\",\n",
    ")\n",
    "\n",
    "np.savetxt(\n",
    "    \"../../../Datasets/irrelevant_requirements_dataset/distilbert_y_resampled.csv\",\n",
    "    y_resampled,\n",
    "    delimiter=\",\",\n",
    ")"
   ]
  },
  {
   "cell_type": "markdown",
   "metadata": {},
   "source": [
    "Before Resampling:\n"
   ]
  },
  {
   "cell_type": "code",
   "execution_count": 22,
   "metadata": {},
   "outputs": [
    {
     "name": "stdout",
     "output_type": "stream",
     "text": [
      "Number of Irrelevant and Relevant in the total dataset: {'Irrelevant': 64, 'Relevant': 557}\n"
     ]
    }
   ],
   "source": [
    "# count the number of 1 and 0 in the total dataset\n",
    "unique, counts = np.unique(tokenized_text_data_y, return_counts=True)\n",
    "print(\n",
    "    \"Number of Irrelevant and Relevant in the total dataset:\",\n",
    "    dict(zip([\"Irrelevant\", \"Relevant\"], counts)),\n",
    ")"
   ]
  },
  {
   "cell_type": "markdown",
   "metadata": {},
   "source": [
    "After Resampling:\n"
   ]
  },
  {
   "cell_type": "code",
   "execution_count": 23,
   "metadata": {},
   "outputs": [
    {
     "name": "stdout",
     "output_type": "stream",
     "text": [
      "Number of Irrelevant and Relevant in the total dataset: {'Irrelevant': 557, 'Relevant': 557}\n"
     ]
    }
   ],
   "source": [
    "# count the number of 1 and 0 in the total dataset\n",
    "unique, counts = np.unique(y_resampled, return_counts=True)\n",
    "print(\n",
    "    \"Number of Irrelevant and Relevant in the total dataset:\",\n",
    "    dict(zip([\"Irrelevant\", \"Relevant\"], counts)),\n",
    ")"
   ]
  },
  {
   "cell_type": "markdown",
   "metadata": {},
   "source": [
    "## Classification\n",
    "\n",
    "In this section we will use various classification models to classify the texts. We will use the output of the hidden layers as the features and the tokenized label of the dataset as training label. We will use ensemble models as they are more robust in classification.\n",
    "\n",
    "Ensemble models are machine learning techniques that combine the predictions of multiple base models to improve overall performance. The key idea is that combining the strengths of different models can lead to a more robust and accurate prediction. Ensemble models are often more accurate than single models because they are less likely to be affected by bias.\n"
   ]
  },
  {
   "cell_type": "code",
   "execution_count": 24,
   "metadata": {},
   "outputs": [],
   "source": [
    "from sklearn.model_selection import train_test_split\n",
    "from sklearn.metrics import (\n",
    "    accuracy_score,\n",
    "    precision_score,\n",
    "    recall_score,\n",
    "    f1_score,\n",
    "    classification_report,\n",
    ")\n",
    "import joblib"
   ]
  },
  {
   "cell_type": "code",
   "execution_count": 25,
   "metadata": {},
   "outputs": [],
   "source": [
    "X_train, X_test, y_train, y_test = train_test_split(\n",
    "    X_resampled, y_resampled, test_size=0.2, random_state=42\n",
    ")"
   ]
  },
  {
   "cell_type": "markdown",
   "metadata": {},
   "source": [
    "### Random Forest Classifier\n",
    "\n",
    "**_How it works:_** A Random Forest is an ensemble of decision trees trained on random subsets of the features and the training data. Each tree independently makes a prediction, and the final prediction is obtained through voting or averaging.\n",
    "\n",
    "**_Advantages_**: Reduces overfitting, improves stability, and increases accuracy.\n"
   ]
  },
  {
   "cell_type": "code",
   "execution_count": 26,
   "metadata": {},
   "outputs": [],
   "source": [
    "from sklearn.ensemble import RandomForestClassifier"
   ]
  },
  {
   "cell_type": "code",
   "execution_count": 27,
   "metadata": {},
   "outputs": [],
   "source": [
    "random_forest_classifier = RandomForestClassifier(random_state=42)"
   ]
  },
  {
   "cell_type": "code",
   "execution_count": 28,
   "metadata": {},
   "outputs": [
    {
     "data": {
      "text/html": [
       "<style>#sk-container-id-1 {color: black;}#sk-container-id-1 pre{padding: 0;}#sk-container-id-1 div.sk-toggleable {background-color: white;}#sk-container-id-1 label.sk-toggleable__label {cursor: pointer;display: block;width: 100%;margin-bottom: 0;padding: 0.3em;box-sizing: border-box;text-align: center;}#sk-container-id-1 label.sk-toggleable__label-arrow:before {content: \"▸\";float: left;margin-right: 0.25em;color: #696969;}#sk-container-id-1 label.sk-toggleable__label-arrow:hover:before {color: black;}#sk-container-id-1 div.sk-estimator:hover label.sk-toggleable__label-arrow:before {color: black;}#sk-container-id-1 div.sk-toggleable__content {max-height: 0;max-width: 0;overflow: hidden;text-align: left;background-color: #f0f8ff;}#sk-container-id-1 div.sk-toggleable__content pre {margin: 0.2em;color: black;border-radius: 0.25em;background-color: #f0f8ff;}#sk-container-id-1 input.sk-toggleable__control:checked~div.sk-toggleable__content {max-height: 200px;max-width: 100%;overflow: auto;}#sk-container-id-1 input.sk-toggleable__control:checked~label.sk-toggleable__label-arrow:before {content: \"▾\";}#sk-container-id-1 div.sk-estimator input.sk-toggleable__control:checked~label.sk-toggleable__label {background-color: #d4ebff;}#sk-container-id-1 div.sk-label input.sk-toggleable__control:checked~label.sk-toggleable__label {background-color: #d4ebff;}#sk-container-id-1 input.sk-hidden--visually {border: 0;clip: rect(1px 1px 1px 1px);clip: rect(1px, 1px, 1px, 1px);height: 1px;margin: -1px;overflow: hidden;padding: 0;position: absolute;width: 1px;}#sk-container-id-1 div.sk-estimator {font-family: monospace;background-color: #f0f8ff;border: 1px dotted black;border-radius: 0.25em;box-sizing: border-box;margin-bottom: 0.5em;}#sk-container-id-1 div.sk-estimator:hover {background-color: #d4ebff;}#sk-container-id-1 div.sk-parallel-item::after {content: \"\";width: 100%;border-bottom: 1px solid gray;flex-grow: 1;}#sk-container-id-1 div.sk-label:hover label.sk-toggleable__label {background-color: #d4ebff;}#sk-container-id-1 div.sk-serial::before {content: \"\";position: absolute;border-left: 1px solid gray;box-sizing: border-box;top: 0;bottom: 0;left: 50%;z-index: 0;}#sk-container-id-1 div.sk-serial {display: flex;flex-direction: column;align-items: center;background-color: white;padding-right: 0.2em;padding-left: 0.2em;position: relative;}#sk-container-id-1 div.sk-item {position: relative;z-index: 1;}#sk-container-id-1 div.sk-parallel {display: flex;align-items: stretch;justify-content: center;background-color: white;position: relative;}#sk-container-id-1 div.sk-item::before, #sk-container-id-1 div.sk-parallel-item::before {content: \"\";position: absolute;border-left: 1px solid gray;box-sizing: border-box;top: 0;bottom: 0;left: 50%;z-index: -1;}#sk-container-id-1 div.sk-parallel-item {display: flex;flex-direction: column;z-index: 1;position: relative;background-color: white;}#sk-container-id-1 div.sk-parallel-item:first-child::after {align-self: flex-end;width: 50%;}#sk-container-id-1 div.sk-parallel-item:last-child::after {align-self: flex-start;width: 50%;}#sk-container-id-1 div.sk-parallel-item:only-child::after {width: 0;}#sk-container-id-1 div.sk-dashed-wrapped {border: 1px dashed gray;margin: 0 0.4em 0.5em 0.4em;box-sizing: border-box;padding-bottom: 0.4em;background-color: white;}#sk-container-id-1 div.sk-label label {font-family: monospace;font-weight: bold;display: inline-block;line-height: 1.2em;}#sk-container-id-1 div.sk-label-container {text-align: center;}#sk-container-id-1 div.sk-container {/* jupyter's `normalize.less` sets `[hidden] { display: none; }` but bootstrap.min.css set `[hidden] { display: none !important; }` so we also need the `!important` here to be able to override the default hidden behavior on the sphinx rendered scikit-learn.org. See: https://github.com/scikit-learn/scikit-learn/issues/21755 */display: inline-block !important;position: relative;}#sk-container-id-1 div.sk-text-repr-fallback {display: none;}</style><div id=\"sk-container-id-1\" class=\"sk-top-container\"><div class=\"sk-text-repr-fallback\"><pre>RandomForestClassifier(random_state=42)</pre><b>In a Jupyter environment, please rerun this cell to show the HTML representation or trust the notebook. <br />On GitHub, the HTML representation is unable to render, please try loading this page with nbviewer.org.</b></div><div class=\"sk-container\" hidden><div class=\"sk-item\"><div class=\"sk-estimator sk-toggleable\"><input class=\"sk-toggleable__control sk-hidden--visually\" id=\"sk-estimator-id-1\" type=\"checkbox\" checked><label for=\"sk-estimator-id-1\" class=\"sk-toggleable__label sk-toggleable__label-arrow\">RandomForestClassifier</label><div class=\"sk-toggleable__content\"><pre>RandomForestClassifier(random_state=42)</pre></div></div></div></div></div>"
      ],
      "text/plain": [
       "RandomForestClassifier(random_state=42)"
      ]
     },
     "execution_count": 28,
     "metadata": {},
     "output_type": "execute_result"
    }
   ],
   "source": [
    "random_forest_classifier.fit(X_train, y_train)"
   ]
  },
  {
   "cell_type": "code",
   "execution_count": 29,
   "metadata": {},
   "outputs": [
    {
     "name": "stdout",
     "output_type": "stream",
     "text": [
      "Accuracy score: 0.9820627802690582 \n",
      "Precision score: 0.975609756097561 \n",
      "Recall score: 0.9917355371900827 \n",
      "f1 score: 0.9836065573770492\n"
     ]
    }
   ],
   "source": [
    "# Evaluate the model through various metrics: accuracy, precision, recall, f1-score\n",
    "\n",
    "y_pred = random_forest_classifier.predict(X_test)\n",
    "\n",
    "print(\n",
    "    \"Accuracy score:\",\n",
    "    accuracy_score(y_test, y_pred),\n",
    "    \"\\nPrecision score:\",\n",
    "    precision_score(y_test, y_pred),\n",
    "    \"\\nRecall score:\",\n",
    "    recall_score(y_test, y_pred),\n",
    "    \"\\nf1 score:\",\n",
    "    f1_score(y_test, y_pred),\n",
    ")"
   ]
  },
  {
   "cell_type": "code",
   "execution_count": 30,
   "metadata": {},
   "outputs": [
    {
     "name": "stdout",
     "output_type": "stream",
     "text": [
      "Classification for Random Forest\n",
      "               precision    recall  f1-score   support\n",
      "\n",
      "           0     0.9900    0.9706    0.9802       102\n",
      "           1     0.9756    0.9917    0.9836       121\n",
      "\n",
      "    accuracy                         0.9821       223\n",
      "   macro avg     0.9828    0.9812    0.9819       223\n",
      "weighted avg     0.9822    0.9821    0.9820       223\n",
      "\n"
     ]
    }
   ],
   "source": [
    "print(\"Classification for Random Forest\\n\", classification_report(y_test, y_pred, digits=4))"
   ]
  },
  {
   "cell_type": "code",
   "execution_count": 33,
   "metadata": {},
   "outputs": [
    {
     "data": {
      "text/plain": [
       "['../../Models/requirement_relevancy_experiment/classifier_models/distilbert_random_forest_classifier.joblib']"
      ]
     },
     "execution_count": 33,
     "metadata": {},
     "output_type": "execute_result"
    }
   ],
   "source": [
    "joblib.dump(\n",
    "    random_forest_classifier,\n",
    "    \"../../../Models/requirement_relevancy_experiment/classifier_models/distilbert_random_forest_classifier.joblib\",\n",
    ")"
   ]
  },
  {
   "cell_type": "markdown",
   "metadata": {},
   "source": [
    "### Gradient Boost Classifier\n",
    "\n",
    "Gradient Boost Classifier is an ensemble model that uses decision trees to classify the data. It uses the boosting technique to create multiple decision trees and then uses the majority vote to classify the data. It is a robust model that is not prone to overfitting. It is also very fast to train.\n"
   ]
  },
  {
   "cell_type": "code",
   "execution_count": 34,
   "metadata": {},
   "outputs": [],
   "source": [
    "from sklearn.ensemble import GradientBoostingClassifier"
   ]
  },
  {
   "cell_type": "code",
   "execution_count": 35,
   "metadata": {},
   "outputs": [],
   "source": [
    "gradient_boosting_classifier = GradientBoostingClassifier(random_state=42)"
   ]
  },
  {
   "cell_type": "code",
   "execution_count": 36,
   "metadata": {},
   "outputs": [
    {
     "data": {
      "text/html": [
       "<style>#sk-container-id-2 {color: black;}#sk-container-id-2 pre{padding: 0;}#sk-container-id-2 div.sk-toggleable {background-color: white;}#sk-container-id-2 label.sk-toggleable__label {cursor: pointer;display: block;width: 100%;margin-bottom: 0;padding: 0.3em;box-sizing: border-box;text-align: center;}#sk-container-id-2 label.sk-toggleable__label-arrow:before {content: \"▸\";float: left;margin-right: 0.25em;color: #696969;}#sk-container-id-2 label.sk-toggleable__label-arrow:hover:before {color: black;}#sk-container-id-2 div.sk-estimator:hover label.sk-toggleable__label-arrow:before {color: black;}#sk-container-id-2 div.sk-toggleable__content {max-height: 0;max-width: 0;overflow: hidden;text-align: left;background-color: #f0f8ff;}#sk-container-id-2 div.sk-toggleable__content pre {margin: 0.2em;color: black;border-radius: 0.25em;background-color: #f0f8ff;}#sk-container-id-2 input.sk-toggleable__control:checked~div.sk-toggleable__content {max-height: 200px;max-width: 100%;overflow: auto;}#sk-container-id-2 input.sk-toggleable__control:checked~label.sk-toggleable__label-arrow:before {content: \"▾\";}#sk-container-id-2 div.sk-estimator input.sk-toggleable__control:checked~label.sk-toggleable__label {background-color: #d4ebff;}#sk-container-id-2 div.sk-label input.sk-toggleable__control:checked~label.sk-toggleable__label {background-color: #d4ebff;}#sk-container-id-2 input.sk-hidden--visually {border: 0;clip: rect(1px 1px 1px 1px);clip: rect(1px, 1px, 1px, 1px);height: 1px;margin: -1px;overflow: hidden;padding: 0;position: absolute;width: 1px;}#sk-container-id-2 div.sk-estimator {font-family: monospace;background-color: #f0f8ff;border: 1px dotted black;border-radius: 0.25em;box-sizing: border-box;margin-bottom: 0.5em;}#sk-container-id-2 div.sk-estimator:hover {background-color: #d4ebff;}#sk-container-id-2 div.sk-parallel-item::after {content: \"\";width: 100%;border-bottom: 1px solid gray;flex-grow: 1;}#sk-container-id-2 div.sk-label:hover label.sk-toggleable__label {background-color: #d4ebff;}#sk-container-id-2 div.sk-serial::before {content: \"\";position: absolute;border-left: 1px solid gray;box-sizing: border-box;top: 0;bottom: 0;left: 50%;z-index: 0;}#sk-container-id-2 div.sk-serial {display: flex;flex-direction: column;align-items: center;background-color: white;padding-right: 0.2em;padding-left: 0.2em;position: relative;}#sk-container-id-2 div.sk-item {position: relative;z-index: 1;}#sk-container-id-2 div.sk-parallel {display: flex;align-items: stretch;justify-content: center;background-color: white;position: relative;}#sk-container-id-2 div.sk-item::before, #sk-container-id-2 div.sk-parallel-item::before {content: \"\";position: absolute;border-left: 1px solid gray;box-sizing: border-box;top: 0;bottom: 0;left: 50%;z-index: -1;}#sk-container-id-2 div.sk-parallel-item {display: flex;flex-direction: column;z-index: 1;position: relative;background-color: white;}#sk-container-id-2 div.sk-parallel-item:first-child::after {align-self: flex-end;width: 50%;}#sk-container-id-2 div.sk-parallel-item:last-child::after {align-self: flex-start;width: 50%;}#sk-container-id-2 div.sk-parallel-item:only-child::after {width: 0;}#sk-container-id-2 div.sk-dashed-wrapped {border: 1px dashed gray;margin: 0 0.4em 0.5em 0.4em;box-sizing: border-box;padding-bottom: 0.4em;background-color: white;}#sk-container-id-2 div.sk-label label {font-family: monospace;font-weight: bold;display: inline-block;line-height: 1.2em;}#sk-container-id-2 div.sk-label-container {text-align: center;}#sk-container-id-2 div.sk-container {/* jupyter's `normalize.less` sets `[hidden] { display: none; }` but bootstrap.min.css set `[hidden] { display: none !important; }` so we also need the `!important` here to be able to override the default hidden behavior on the sphinx rendered scikit-learn.org. See: https://github.com/scikit-learn/scikit-learn/issues/21755 */display: inline-block !important;position: relative;}#sk-container-id-2 div.sk-text-repr-fallback {display: none;}</style><div id=\"sk-container-id-2\" class=\"sk-top-container\"><div class=\"sk-text-repr-fallback\"><pre>GradientBoostingClassifier(random_state=42)</pre><b>In a Jupyter environment, please rerun this cell to show the HTML representation or trust the notebook. <br />On GitHub, the HTML representation is unable to render, please try loading this page with nbviewer.org.</b></div><div class=\"sk-container\" hidden><div class=\"sk-item\"><div class=\"sk-estimator sk-toggleable\"><input class=\"sk-toggleable__control sk-hidden--visually\" id=\"sk-estimator-id-2\" type=\"checkbox\" checked><label for=\"sk-estimator-id-2\" class=\"sk-toggleable__label sk-toggleable__label-arrow\">GradientBoostingClassifier</label><div class=\"sk-toggleable__content\"><pre>GradientBoostingClassifier(random_state=42)</pre></div></div></div></div></div>"
      ],
      "text/plain": [
       "GradientBoostingClassifier(random_state=42)"
      ]
     },
     "execution_count": 36,
     "metadata": {},
     "output_type": "execute_result"
    }
   ],
   "source": [
    "gradient_boosting_classifier.fit(X_train, y_train)"
   ]
  },
  {
   "cell_type": "code",
   "execution_count": 37,
   "metadata": {},
   "outputs": [
    {
     "name": "stdout",
     "output_type": "stream",
     "text": [
      "Accuracy score: 0.9910313901345291 \n",
      "Precision score: 0.9917355371900827 \n",
      "Recall score: 0.9917355371900827 \n",
      "f1 score: 0.9917355371900827\n"
     ]
    }
   ],
   "source": [
    "# Evaluate the model through various metrics: accuracy, precision, recall, f1-score\n",
    "\n",
    "y_pred = gradient_boosting_classifier.predict(X_test)\n",
    "\n",
    "print(\n",
    "    \"Accuracy score:\",\n",
    "    accuracy_score(y_test, y_pred),\n",
    "    \"\\nPrecision score:\",\n",
    "    precision_score(y_test, y_pred),\n",
    "    \"\\nRecall score:\",\n",
    "    recall_score(y_test, y_pred),\n",
    "    \"\\nf1 score:\",\n",
    "    f1_score(y_test, y_pred),\n",
    ")"
   ]
  },
  {
   "cell_type": "code",
   "execution_count": 50,
   "metadata": {},
   "outputs": [
    {
     "name": "stdout",
     "output_type": "stream",
     "text": [
      "Classification for Gradient Boosting\n",
      "               precision    recall  f1-score   support\n",
      "\n",
      "           0     0.9612    0.9706    0.9659       102\n",
      "           1     0.9750    0.9669    0.9710       121\n",
      "\n",
      "    accuracy                         0.9686       223\n",
      "   macro avg     0.9681    0.9688    0.9684       223\n",
      "weighted avg     0.9687    0.9686    0.9686       223\n",
      "\n"
     ]
    }
   ],
   "source": [
    "print(\n",
    "    \"Classification for Gradient Boosting\\n\",\n",
    "    classification_report(y_test, y_pred, digits=4),\n",
    ")"
   ]
  },
  {
   "cell_type": "code",
   "execution_count": 39,
   "metadata": {},
   "outputs": [
    {
     "data": {
      "text/plain": [
       "['../../Models/requirement_relevancy_experiment/classifier_models/distilbert_gradient_boost_classifier.joblib']"
      ]
     },
     "execution_count": 39,
     "metadata": {},
     "output_type": "execute_result"
    }
   ],
   "source": [
    "joblib.dump(\n",
    "    gradient_boosting_classifier,\n",
    "    \"../../../Models/requirement_relevancy_experiment/classifier_models/distilbert_gradient_boost_classifier.joblib\",\n",
    ")"
   ]
  },
  {
   "cell_type": "markdown",
   "metadata": {},
   "source": [
    "### Adaboost Classifier\n",
    "\n",
    "**_How it works:_** AdaBoost is an ensemble learning method that sequentially trains weak learners on weighted datasets, adjusting weights for misclassified instances in each iteration. The final prediction is made by combining the weak learners' predictions, weighted by their accuracy.\n",
    "\n",
    "**_Advantages:_** AdaBoost is adaptable, emphasizing misclassified instances, has few hyperparameters to tune, is versatile with various base learners, avoids overfitting, is effective for binary classification, handles noisy data, and provides an interpretable final model.\n"
   ]
  },
  {
   "cell_type": "code",
   "execution_count": 40,
   "metadata": {},
   "outputs": [],
   "source": [
    "from sklearn.ensemble import AdaBoostClassifier"
   ]
  },
  {
   "cell_type": "code",
   "execution_count": 41,
   "metadata": {},
   "outputs": [],
   "source": [
    "adaboost_classifier = AdaBoostClassifier(random_state=42)"
   ]
  },
  {
   "cell_type": "code",
   "execution_count": 42,
   "metadata": {},
   "outputs": [
    {
     "data": {
      "text/html": [
       "<style>#sk-container-id-3 {color: black;}#sk-container-id-3 pre{padding: 0;}#sk-container-id-3 div.sk-toggleable {background-color: white;}#sk-container-id-3 label.sk-toggleable__label {cursor: pointer;display: block;width: 100%;margin-bottom: 0;padding: 0.3em;box-sizing: border-box;text-align: center;}#sk-container-id-3 label.sk-toggleable__label-arrow:before {content: \"▸\";float: left;margin-right: 0.25em;color: #696969;}#sk-container-id-3 label.sk-toggleable__label-arrow:hover:before {color: black;}#sk-container-id-3 div.sk-estimator:hover label.sk-toggleable__label-arrow:before {color: black;}#sk-container-id-3 div.sk-toggleable__content {max-height: 0;max-width: 0;overflow: hidden;text-align: left;background-color: #f0f8ff;}#sk-container-id-3 div.sk-toggleable__content pre {margin: 0.2em;color: black;border-radius: 0.25em;background-color: #f0f8ff;}#sk-container-id-3 input.sk-toggleable__control:checked~div.sk-toggleable__content {max-height: 200px;max-width: 100%;overflow: auto;}#sk-container-id-3 input.sk-toggleable__control:checked~label.sk-toggleable__label-arrow:before {content: \"▾\";}#sk-container-id-3 div.sk-estimator input.sk-toggleable__control:checked~label.sk-toggleable__label {background-color: #d4ebff;}#sk-container-id-3 div.sk-label input.sk-toggleable__control:checked~label.sk-toggleable__label {background-color: #d4ebff;}#sk-container-id-3 input.sk-hidden--visually {border: 0;clip: rect(1px 1px 1px 1px);clip: rect(1px, 1px, 1px, 1px);height: 1px;margin: -1px;overflow: hidden;padding: 0;position: absolute;width: 1px;}#sk-container-id-3 div.sk-estimator {font-family: monospace;background-color: #f0f8ff;border: 1px dotted black;border-radius: 0.25em;box-sizing: border-box;margin-bottom: 0.5em;}#sk-container-id-3 div.sk-estimator:hover {background-color: #d4ebff;}#sk-container-id-3 div.sk-parallel-item::after {content: \"\";width: 100%;border-bottom: 1px solid gray;flex-grow: 1;}#sk-container-id-3 div.sk-label:hover label.sk-toggleable__label {background-color: #d4ebff;}#sk-container-id-3 div.sk-serial::before {content: \"\";position: absolute;border-left: 1px solid gray;box-sizing: border-box;top: 0;bottom: 0;left: 50%;z-index: 0;}#sk-container-id-3 div.sk-serial {display: flex;flex-direction: column;align-items: center;background-color: white;padding-right: 0.2em;padding-left: 0.2em;position: relative;}#sk-container-id-3 div.sk-item {position: relative;z-index: 1;}#sk-container-id-3 div.sk-parallel {display: flex;align-items: stretch;justify-content: center;background-color: white;position: relative;}#sk-container-id-3 div.sk-item::before, #sk-container-id-3 div.sk-parallel-item::before {content: \"\";position: absolute;border-left: 1px solid gray;box-sizing: border-box;top: 0;bottom: 0;left: 50%;z-index: -1;}#sk-container-id-3 div.sk-parallel-item {display: flex;flex-direction: column;z-index: 1;position: relative;background-color: white;}#sk-container-id-3 div.sk-parallel-item:first-child::after {align-self: flex-end;width: 50%;}#sk-container-id-3 div.sk-parallel-item:last-child::after {align-self: flex-start;width: 50%;}#sk-container-id-3 div.sk-parallel-item:only-child::after {width: 0;}#sk-container-id-3 div.sk-dashed-wrapped {border: 1px dashed gray;margin: 0 0.4em 0.5em 0.4em;box-sizing: border-box;padding-bottom: 0.4em;background-color: white;}#sk-container-id-3 div.sk-label label {font-family: monospace;font-weight: bold;display: inline-block;line-height: 1.2em;}#sk-container-id-3 div.sk-label-container {text-align: center;}#sk-container-id-3 div.sk-container {/* jupyter's `normalize.less` sets `[hidden] { display: none; }` but bootstrap.min.css set `[hidden] { display: none !important; }` so we also need the `!important` here to be able to override the default hidden behavior on the sphinx rendered scikit-learn.org. See: https://github.com/scikit-learn/scikit-learn/issues/21755 */display: inline-block !important;position: relative;}#sk-container-id-3 div.sk-text-repr-fallback {display: none;}</style><div id=\"sk-container-id-3\" class=\"sk-top-container\"><div class=\"sk-text-repr-fallback\"><pre>AdaBoostClassifier(random_state=42)</pre><b>In a Jupyter environment, please rerun this cell to show the HTML representation or trust the notebook. <br />On GitHub, the HTML representation is unable to render, please try loading this page with nbviewer.org.</b></div><div class=\"sk-container\" hidden><div class=\"sk-item\"><div class=\"sk-estimator sk-toggleable\"><input class=\"sk-toggleable__control sk-hidden--visually\" id=\"sk-estimator-id-3\" type=\"checkbox\" checked><label for=\"sk-estimator-id-3\" class=\"sk-toggleable__label sk-toggleable__label-arrow\">AdaBoostClassifier</label><div class=\"sk-toggleable__content\"><pre>AdaBoostClassifier(random_state=42)</pre></div></div></div></div></div>"
      ],
      "text/plain": [
       "AdaBoostClassifier(random_state=42)"
      ]
     },
     "execution_count": 42,
     "metadata": {},
     "output_type": "execute_result"
    }
   ],
   "source": [
    "adaboost_classifier.fit(X_train, y_train)"
   ]
  },
  {
   "cell_type": "code",
   "execution_count": 51,
   "metadata": {},
   "outputs": [
    {
     "name": "stdout",
     "output_type": "stream",
     "text": [
      "Classification result for AdaBoost\n",
      "               precision    recall  f1-score   support\n",
      "\n",
      "           0     0.9252    0.9706    0.9474       102\n",
      "           1     0.9741    0.9339    0.9536       121\n",
      "\n",
      "    accuracy                         0.9507       223\n",
      "   macro avg     0.9497    0.9522    0.9505       223\n",
      "weighted avg     0.9518    0.9507    0.9507       223\n",
      "\n"
     ]
    }
   ],
   "source": [
    "y_pred = adaboost_classifier.predict(X_test)\n",
    "\n",
    "print(\n",
    "    \"Classification result for AdaBoost\\n\",\n",
    "    classification_report(y_test, y_pred, digits=4),\n",
    ")"
   ]
  },
  {
   "cell_type": "code",
   "execution_count": 44,
   "metadata": {},
   "outputs": [
    {
     "data": {
      "text/plain": [
       "['../../Models/requirement_relevancy_experiment/classifier_models/distilbert_adaboost_classifier.joblib']"
      ]
     },
     "execution_count": 44,
     "metadata": {},
     "output_type": "execute_result"
    }
   ],
   "source": [
    "joblib.dump(\n",
    "    adaboost_classifier,\n",
    "    \"../../../Models/requirement_relevancy_experiment/classifier_models/distilbert_adaboost_classifier.joblib\",\n",
    ")"
   ]
  },
  {
   "cell_type": "markdown",
   "metadata": {},
   "source": [
    "### XGBoost Classifier\n",
    "\n",
    "**_How it works:_** XGBoost is a gradient boosting algorithm that combines the strengths of boosting and regularization techniques. It minimizes a loss function by adding weak learners sequentially and uses gradient descent for optimization.\n",
    "\n",
    "**_Advantages:_** High accuracy, handles missing data, and provides feature importance.\n",
    "\n",
    "More about XGBoost [here](https://xgboost.readthedocs.io/en/latest/tutorials/model.html)"
   ]
  },
  {
   "cell_type": "code",
   "execution_count": 45,
   "metadata": {},
   "outputs": [],
   "source": [
    "from xgboost import XGBClassifier"
   ]
  },
  {
   "cell_type": "code",
   "execution_count": 46,
   "metadata": {},
   "outputs": [],
   "source": [
    "xgboost_classifier = XGBClassifier(random_state=42)"
   ]
  },
  {
   "cell_type": "code",
   "execution_count": 47,
   "metadata": {},
   "outputs": [
    {
     "data": {
      "text/html": [
       "<style>#sk-container-id-4 {color: black;}#sk-container-id-4 pre{padding: 0;}#sk-container-id-4 div.sk-toggleable {background-color: white;}#sk-container-id-4 label.sk-toggleable__label {cursor: pointer;display: block;width: 100%;margin-bottom: 0;padding: 0.3em;box-sizing: border-box;text-align: center;}#sk-container-id-4 label.sk-toggleable__label-arrow:before {content: \"▸\";float: left;margin-right: 0.25em;color: #696969;}#sk-container-id-4 label.sk-toggleable__label-arrow:hover:before {color: black;}#sk-container-id-4 div.sk-estimator:hover label.sk-toggleable__label-arrow:before {color: black;}#sk-container-id-4 div.sk-toggleable__content {max-height: 0;max-width: 0;overflow: hidden;text-align: left;background-color: #f0f8ff;}#sk-container-id-4 div.sk-toggleable__content pre {margin: 0.2em;color: black;border-radius: 0.25em;background-color: #f0f8ff;}#sk-container-id-4 input.sk-toggleable__control:checked~div.sk-toggleable__content {max-height: 200px;max-width: 100%;overflow: auto;}#sk-container-id-4 input.sk-toggleable__control:checked~label.sk-toggleable__label-arrow:before {content: \"▾\";}#sk-container-id-4 div.sk-estimator input.sk-toggleable__control:checked~label.sk-toggleable__label {background-color: #d4ebff;}#sk-container-id-4 div.sk-label input.sk-toggleable__control:checked~label.sk-toggleable__label {background-color: #d4ebff;}#sk-container-id-4 input.sk-hidden--visually {border: 0;clip: rect(1px 1px 1px 1px);clip: rect(1px, 1px, 1px, 1px);height: 1px;margin: -1px;overflow: hidden;padding: 0;position: absolute;width: 1px;}#sk-container-id-4 div.sk-estimator {font-family: monospace;background-color: #f0f8ff;border: 1px dotted black;border-radius: 0.25em;box-sizing: border-box;margin-bottom: 0.5em;}#sk-container-id-4 div.sk-estimator:hover {background-color: #d4ebff;}#sk-container-id-4 div.sk-parallel-item::after {content: \"\";width: 100%;border-bottom: 1px solid gray;flex-grow: 1;}#sk-container-id-4 div.sk-label:hover label.sk-toggleable__label {background-color: #d4ebff;}#sk-container-id-4 div.sk-serial::before {content: \"\";position: absolute;border-left: 1px solid gray;box-sizing: border-box;top: 0;bottom: 0;left: 50%;z-index: 0;}#sk-container-id-4 div.sk-serial {display: flex;flex-direction: column;align-items: center;background-color: white;padding-right: 0.2em;padding-left: 0.2em;position: relative;}#sk-container-id-4 div.sk-item {position: relative;z-index: 1;}#sk-container-id-4 div.sk-parallel {display: flex;align-items: stretch;justify-content: center;background-color: white;position: relative;}#sk-container-id-4 div.sk-item::before, #sk-container-id-4 div.sk-parallel-item::before {content: \"\";position: absolute;border-left: 1px solid gray;box-sizing: border-box;top: 0;bottom: 0;left: 50%;z-index: -1;}#sk-container-id-4 div.sk-parallel-item {display: flex;flex-direction: column;z-index: 1;position: relative;background-color: white;}#sk-container-id-4 div.sk-parallel-item:first-child::after {align-self: flex-end;width: 50%;}#sk-container-id-4 div.sk-parallel-item:last-child::after {align-self: flex-start;width: 50%;}#sk-container-id-4 div.sk-parallel-item:only-child::after {width: 0;}#sk-container-id-4 div.sk-dashed-wrapped {border: 1px dashed gray;margin: 0 0.4em 0.5em 0.4em;box-sizing: border-box;padding-bottom: 0.4em;background-color: white;}#sk-container-id-4 div.sk-label label {font-family: monospace;font-weight: bold;display: inline-block;line-height: 1.2em;}#sk-container-id-4 div.sk-label-container {text-align: center;}#sk-container-id-4 div.sk-container {/* jupyter's `normalize.less` sets `[hidden] { display: none; }` but bootstrap.min.css set `[hidden] { display: none !important; }` so we also need the `!important` here to be able to override the default hidden behavior on the sphinx rendered scikit-learn.org. See: https://github.com/scikit-learn/scikit-learn/issues/21755 */display: inline-block !important;position: relative;}#sk-container-id-4 div.sk-text-repr-fallback {display: none;}</style><div id=\"sk-container-id-4\" class=\"sk-top-container\"><div class=\"sk-text-repr-fallback\"><pre>XGBClassifier(base_score=None, booster=None, callbacks=None,\n",
       "              colsample_bylevel=None, colsample_bynode=None,\n",
       "              colsample_bytree=None, device=None, early_stopping_rounds=None,\n",
       "              enable_categorical=False, eval_metric=None, feature_types=None,\n",
       "              gamma=None, grow_policy=None, importance_type=None,\n",
       "              interaction_constraints=None, learning_rate=None, max_bin=None,\n",
       "              max_cat_threshold=None, max_cat_to_onehot=None,\n",
       "              max_delta_step=None, max_depth=None, max_leaves=None,\n",
       "              min_child_weight=None, missing=nan, monotone_constraints=None,\n",
       "              multi_strategy=None, n_estimators=None, n_jobs=None,\n",
       "              num_parallel_tree=None, random_state=42, ...)</pre><b>In a Jupyter environment, please rerun this cell to show the HTML representation or trust the notebook. <br />On GitHub, the HTML representation is unable to render, please try loading this page with nbviewer.org.</b></div><div class=\"sk-container\" hidden><div class=\"sk-item\"><div class=\"sk-estimator sk-toggleable\"><input class=\"sk-toggleable__control sk-hidden--visually\" id=\"sk-estimator-id-4\" type=\"checkbox\" checked><label for=\"sk-estimator-id-4\" class=\"sk-toggleable__label sk-toggleable__label-arrow\">XGBClassifier</label><div class=\"sk-toggleable__content\"><pre>XGBClassifier(base_score=None, booster=None, callbacks=None,\n",
       "              colsample_bylevel=None, colsample_bynode=None,\n",
       "              colsample_bytree=None, device=None, early_stopping_rounds=None,\n",
       "              enable_categorical=False, eval_metric=None, feature_types=None,\n",
       "              gamma=None, grow_policy=None, importance_type=None,\n",
       "              interaction_constraints=None, learning_rate=None, max_bin=None,\n",
       "              max_cat_threshold=None, max_cat_to_onehot=None,\n",
       "              max_delta_step=None, max_depth=None, max_leaves=None,\n",
       "              min_child_weight=None, missing=nan, monotone_constraints=None,\n",
       "              multi_strategy=None, n_estimators=None, n_jobs=None,\n",
       "              num_parallel_tree=None, random_state=42, ...)</pre></div></div></div></div></div>"
      ],
      "text/plain": [
       "XGBClassifier(base_score=None, booster=None, callbacks=None,\n",
       "              colsample_bylevel=None, colsample_bynode=None,\n",
       "              colsample_bytree=None, device=None, early_stopping_rounds=None,\n",
       "              enable_categorical=False, eval_metric=None, feature_types=None,\n",
       "              gamma=None, grow_policy=None, importance_type=None,\n",
       "              interaction_constraints=None, learning_rate=None, max_bin=None,\n",
       "              max_cat_threshold=None, max_cat_to_onehot=None,\n",
       "              max_delta_step=None, max_depth=None, max_leaves=None,\n",
       "              min_child_weight=None, missing=nan, monotone_constraints=None,\n",
       "              multi_strategy=None, n_estimators=None, n_jobs=None,\n",
       "              num_parallel_tree=None, random_state=42, ...)"
      ]
     },
     "execution_count": 47,
     "metadata": {},
     "output_type": "execute_result"
    }
   ],
   "source": [
    "xgboost_classifier.fit(X_train, y_train)"
   ]
  },
  {
   "cell_type": "code",
   "execution_count": 52,
   "metadata": {},
   "outputs": [
    {
     "name": "stdout",
     "output_type": "stream",
     "text": [
      "Classification for XG Boosting\n",
      "               precision    recall  f1-score   support\n",
      "\n",
      "           0     0.9612    0.9706    0.9659       102\n",
      "           1     0.9750    0.9669    0.9710       121\n",
      "\n",
      "    accuracy                         0.9686       223\n",
      "   macro avg     0.9681    0.9688    0.9684       223\n",
      "weighted avg     0.9687    0.9686    0.9686       223\n",
      "\n"
     ]
    }
   ],
   "source": [
    "# Evaluate the model through various metrics: accuracy, precision, recall, f1-score by printing the classification report\n",
    "\n",
    "y_pred = xgboost_classifier.predict(X_test)\n",
    "print(\n",
    "    \"Classification for XG Boosting\\n\", classification_report(y_test, y_pred, digits=4)\n",
    ")"
   ]
  },
  {
   "cell_type": "code",
   "execution_count": 49,
   "metadata": {},
   "outputs": [
    {
     "data": {
      "text/plain": [
       "['../../Models/requirement_relevancy_experiment/classifier_models/distilbert_xgboost_classifier.joblib']"
      ]
     },
     "execution_count": 49,
     "metadata": {},
     "output_type": "execute_result"
    }
   ],
   "source": [
    "joblib.dump(\n",
    "    xgboost_classifier,\n",
    "    \"../../../Models/requirement_relevancy_experiment/classifier_models/distilbert_xgboost_classifier.joblib\",\n",
    ")"
   ]
  }
 ],
 "metadata": {
  "kernelspec": {
   "display_name": "venv",
   "language": "python",
   "name": "python3"
  },
  "language_info": {
   "codemirror_mode": {
    "name": "ipython",
    "version": 3
   },
   "file_extension": ".py",
   "mimetype": "text/x-python",
   "name": "python",
   "nbconvert_exporter": "python",
   "pygments_lexer": "ipython3",
   "version": "3.11.4"
  },
  "orig_nbformat": 4
 },
 "nbformat": 4,
 "nbformat_minor": 2
}
