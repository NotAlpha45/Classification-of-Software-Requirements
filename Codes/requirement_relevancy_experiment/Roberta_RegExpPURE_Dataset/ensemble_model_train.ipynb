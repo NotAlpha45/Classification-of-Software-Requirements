{
 "cells": [
  {
   "cell_type": "code",
   "execution_count": 6,
   "metadata": {},
   "outputs": [],
   "source": [
    "BATCH_SIZE = 128\n",
    "MAX_LENGTH = 128"
   ]
  },
  {
   "cell_type": "markdown",
   "metadata": {},
   "source": [
    "# Ensemble Model Run\n",
    "\n",
    "In this notebook, we will run ensemble models on the segmented data. We will use the following models:\n",
    "1. Random Forest\n",
    "2. XGBoost\n",
    "3. LightGBM"
   ]
  },
  {
   "cell_type": "code",
   "execution_count": 5,
   "metadata": {},
   "outputs": [],
   "source": [
    "import numpy as np\n",
    "import pandas as pd"
   ]
  },
  {
   "cell_type": "code",
   "execution_count": 7,
   "metadata": {},
   "outputs": [],
   "source": [
    "train_labels = (\n",
    "    pd.read_csv(\"../../../Datasets/RegExpPURE/PURE_train.csv\", usecols=[\"Req/Not Req\"])[\n",
    "        \"Req/Not Req\"\n",
    "    ]\n",
    "    .map({\"Req\": 1, \"Not_Req\": 0})\n",
    "    .values\n",
    ")\n",
    "test_labels = (\n",
    "    pd.read_csv(\"../../../Datasets/RegExpPURE/PURE_test.csv\", usecols=[\"Req/Not Req\"])[\n",
    "        \"Req/Not Req\"\n",
    "    ]\n",
    "    .map({\"Req\": 1, \"Not_Req\": 0})\n",
    "    .values\n",
    ")\n",
    "valid_labels = (\n",
    "    pd.read_csv(\"../../../Datasets/RegExpPURE/PURE_valid.csv\", usecols=[\"Req/Not Req\"])[\n",
    "        \"Req/Not Req\"\n",
    "    ]\n",
    "    .map({\"Req\": 1, \"Not_Req\": 0})\n",
    "    .values\n",
    ")"
   ]
  },
  {
   "cell_type": "code",
   "execution_count": 8,
   "metadata": {},
   "outputs": [],
   "source": [
    "train_feature_size = len(train_labels)\n",
    "test_feature_size = len(test_labels)\n",
    "valid_feature_size = len(valid_labels)"
   ]
  },
  {
   "cell_type": "code",
   "execution_count": 9,
   "metadata": {},
   "outputs": [],
   "source": [
    "train_segments = np.concatenate(\n",
    "    [\n",
    "        np.load(f\"../../../States/Roberta_Pretrained/Train/train_{i}.npy\")\n",
    "        for i in range(0, train_feature_size, BATCH_SIZE)\n",
    "    ]\n",
    ")\n",
    "\n",
    "test_segments = np.concatenate(\n",
    "    [\n",
    "        np.load(f\"../../../States/Roberta_Pretrained/Test/test_{i}.npy\")\n",
    "        for i in range(0, test_feature_size, BATCH_SIZE)\n",
    "    ]\n",
    ")\n",
    "\n",
    "valid_segments = np.concatenate(\n",
    "    [\n",
    "        np.load(f\"../../../States/Roberta_Pretrained/Validation/Validation_{i}.npy\")\n",
    "        for i in range(0, valid_feature_size, BATCH_SIZE)\n",
    "    ]\n",
    ")"
   ]
  },
  {
   "cell_type": "markdown",
   "metadata": {},
   "source": [
    "### Pooling\n",
    "The [cls] token captures the aggregate information of the input sequence and hence it is used for training classifiers. "
   ]
  },
  {
   "cell_type": "code",
   "execution_count": 10,
   "metadata": {},
   "outputs": [
    {
     "data": {
      "text/plain": [
       "((5306, 768), (1534, 768), (905, 768))"
      ]
     },
     "execution_count": 10,
     "metadata": {},
     "output_type": "execute_result"
    }
   ],
   "source": [
    "cls_token_set_train = train_segments[:, 0, :]\n",
    "cls_token_set_test = test_segments[:, 0, :]\n",
    "cls_token_set_valid = valid_segments[:, 0, :]\n",
    "\n",
    "cls_token_set_train.shape, cls_token_set_test.shape, cls_token_set_valid.shape"
   ]
  },
  {
   "cell_type": "code",
   "execution_count": 11,
   "metadata": {},
   "outputs": [],
   "source": [
    "import joblib\n",
    "from sklearn.model_selection import GridSearchCV\n",
    "from sklearn.metrics import classification_report"
   ]
  },
  {
   "cell_type": "markdown",
   "metadata": {},
   "source": [
    "## Random Forest"
   ]
  },
  {
   "cell_type": "code",
   "execution_count": 12,
   "metadata": {},
   "outputs": [],
   "source": [
    "from sklearn.ensemble import RandomForestClassifier"
   ]
  },
  {
   "cell_type": "code",
   "execution_count": 13,
   "metadata": {},
   "outputs": [
    {
     "name": "stdout",
     "output_type": "stream",
     "text": [
      "Fitting 5 folds for each of 81 candidates, totalling 405 fits\n",
      "Best Hyperparameters:  {'max_depth': None, 'min_samples_leaf': 4, 'min_samples_split': 2, 'n_estimators': 300}\n",
      "Best Accuracy Score:  0.722783289047926\n"
     ]
    }
   ],
   "source": [
    "# Define the parameter grid for hyperparameter tuning\n",
    "param_grid = {\n",
    "    'n_estimators': [100, 200, 300],\n",
    "    'max_depth': [None, 5, 10],\n",
    "    'min_samples_split': [2, 5, 10],\n",
    "    'min_samples_leaf': [1, 2, 4]\n",
    "}\n",
    "\n",
    "# Create a random forest classifier\n",
    "rf_clf = RandomForestClassifier(random_state=42)\n",
    "\n",
    "# Perform grid search cross-validation\n",
    "grid_search = GridSearchCV(\n",
    "    estimator=rf_clf,\n",
    "    param_grid=param_grid,\n",
    "    cv=5,\n",
    "    scoring=\"accuracy\",\n",
    "    n_jobs=-1,\n",
    "    verbose=2,\n",
    ")\n",
    "grid_search.fit(cls_token_set_train, train_labels)\n",
    "\n",
    "# Print the best hyperparameters and the corresponding accuracy score\n",
    "print(\"Best Hyperparameters: \", grid_search.best_params_)\n",
    "print(\"Best Accuracy Score: \", grid_search.best_score_)"
   ]
  },
  {
   "cell_type": "code",
   "execution_count": 14,
   "metadata": {},
   "outputs": [
    {
     "name": "stdout",
     "output_type": "stream",
     "text": [
      "Test set performance:\n",
      "              precision    recall  f1-score   support\n",
      "\n",
      "           0       0.53      0.86      0.65       476\n",
      "           1       0.91      0.65      0.76      1058\n",
      "\n",
      "    accuracy                           0.72      1534\n",
      "   macro avg       0.72      0.76      0.71      1534\n",
      "weighted avg       0.79      0.72      0.73      1534\n",
      "\n",
      "Validation set performance:\n",
      "              precision    recall  f1-score   support\n",
      "\n",
      "           0       0.90      0.73      0.81       650\n",
      "           1       0.54      0.80      0.64       255\n",
      "\n",
      "    accuracy                           0.75       905\n",
      "   macro avg       0.72      0.77      0.73       905\n",
      "weighted avg       0.80      0.75      0.76       905\n",
      "\n"
     ]
    }
   ],
   "source": [
    "rf_clf_best = RandomForestClassifier(\n",
    "    n_estimators=grid_search.best_params_[\"n_estimators\"],\n",
    "    max_depth=grid_search.best_params_[\"max_depth\"],\n",
    "    min_samples_split=grid_search.best_params_[\"min_samples_split\"]\n",
    ")\n",
    "\n",
    "rf_clf_best.fit(cls_token_set_train, train_labels)\n",
    "\n",
    "# Predict the labels of the test set\n",
    "print(\"Test set performance:\")\n",
    "print(classification_report(test_labels, rf_clf_best.predict(cls_token_set_test)))\n",
    "\n",
    "# Predict the labels of the validation set\n",
    "print(\"Validation set performance:\")\n",
    "print(classification_report(valid_labels, rf_clf_best.predict(cls_token_set_valid)))"
   ]
  },
  {
   "cell_type": "code",
   "execution_count": 15,
   "metadata": {},
   "outputs": [
    {
     "data": {
      "text/plain": [
       "['../../../Models/RexExpPURE_Classifiers/Roberta_Classifiers/RandomForest.joblib']"
      ]
     },
     "execution_count": 15,
     "metadata": {},
     "output_type": "execute_result"
    }
   ],
   "source": [
    "joblib.dump(\n",
    "    rf_clf_best,\n",
    "    \"../../../Models/RexExpPURE_Classifiers/Roberta_Classifiers/RandomForest.joblib\",\n",
    ")"
   ]
  },
  {
   "cell_type": "markdown",
   "metadata": {},
   "source": [
    "## XGB Classifier"
   ]
  },
  {
   "cell_type": "code",
   "execution_count": 28,
   "metadata": {},
   "outputs": [],
   "source": [
    "import xgboost as xgb"
   ]
  },
  {
   "cell_type": "code",
   "execution_count": 29,
   "metadata": {},
   "outputs": [
    {
     "name": "stdout",
     "output_type": "stream",
     "text": [
      "Fitting 5 folds for each of 324 candidates, totalling 1620 fits\n",
      "Best Hyperparameters:  {'colsample_bytree': 1.0, 'gamma': 0, 'learning_rate': 0.1, 'max_depth': 5, 'n_estimators': 300, 'subsample': 0.8}\n",
      "Best Accuracy Score:  0.7376640734410027\n"
     ]
    }
   ],
   "source": [
    "\n",
    "# Define the parameter grid for hyperparameter tuning\n",
    "param_grid = {\n",
    "    'max_depth': [3, 5, 7],\n",
    "    'learning_rate': [0.1, 0.01, 0.001],\n",
    "    'n_estimators': [100, 200, 300],\n",
    "    'gamma': [0, 0.1, 0.2],\n",
    "    'subsample': [0.8, 1.0],\n",
    "    'colsample_bytree': [0.8, 1.0]\n",
    "}\n",
    "\n",
    "# Create an XGBoost classifier\n",
    "xgb_clf = xgb.XGBClassifier(random_state=42)\n",
    "\n",
    "# Perform grid search cross-validation\n",
    "grid_search = GridSearchCV(estimator=xgb_clf, param_grid=param_grid, cv=5, scoring='accuracy', n_jobs=-1, verbose=2)\n",
    "grid_search.fit(cls_token_set_train, train_labels)\n",
    "\n",
    "# Print the best hyperparameters and the corresponding accuracy score\n",
    "print(\"Best Hyperparameters: \", grid_search.best_params_)\n",
    "print(\"Best Accuracy Score: \", grid_search.best_score_)\n",
    "\n"
   ]
  },
  {
   "cell_type": "code",
   "execution_count": 30,
   "metadata": {},
   "outputs": [
    {
     "name": "stdout",
     "output_type": "stream",
     "text": [
      "Test Set Performance:\n",
      "              precision    recall  f1-score   support\n",
      "\n",
      "           0       0.51      0.86      0.64       476\n",
      "           1       0.91      0.63      0.75      1058\n",
      "\n",
      "    accuracy                           0.70      1534\n",
      "   macro avg       0.71      0.75      0.69      1534\n",
      "weighted avg       0.79      0.70      0.71      1534\n",
      "\n",
      "Validation Set Performance:\n",
      "              precision    recall  f1-score   support\n",
      "\n",
      "           0       0.94      0.72      0.81       650\n",
      "           1       0.55      0.89      0.68       255\n",
      "\n",
      "    accuracy                           0.77       905\n",
      "   macro avg       0.75      0.80      0.75       905\n",
      "weighted avg       0.83      0.77      0.78       905\n",
      "\n"
     ]
    }
   ],
   "source": [
    "# Create an XGBoost classifier with the best hyperparameters\n",
    "xgb_clf_best = xgb.XGBClassifier(\n",
    "    max_depth=grid_search.best_params_[\"max_depth\"],\n",
    "    learning_rate=grid_search.best_params_[\"learning_rate\"],\n",
    "    n_estimators=grid_search.best_params_[\"n_estimators\"],\n",
    "    gamma=grid_search.best_params_[\"gamma\"],\n",
    "    subsample=grid_search.best_params_[\"subsample\"],\n",
    "    colsample_bytree=grid_search.best_params_[\"colsample_bytree\"],\n",
    "    random_state=42,\n",
    ")\n",
    "\n",
    "# Fit the XGBoost classifier on the training data\n",
    "xgb_clf_best.fit(cls_token_set_train, train_labels)\n",
    "\n",
    "# Evaluate the XGBoost classifier on the test set\n",
    "print(\"Test Set Performance:\")\n",
    "print(classification_report(test_labels, xgb_clf_best.predict(cls_token_set_test)))\n",
    "\n",
    "# Evaluate the XGBoost classifier on the validation set\n",
    "print(\"Validation Set Performance:\")\n",
    "print(classification_report(valid_labels, xgb_clf_best.predict(cls_token_set_valid)))"
   ]
  },
  {
   "cell_type": "code",
   "execution_count": 31,
   "metadata": {},
   "outputs": [
    {
     "data": {
      "text/plain": [
       "['../../../Models/RexExpPURE_Classifiers/Roberta_Classifiers/XGBoost.joblib']"
      ]
     },
     "execution_count": 31,
     "metadata": {},
     "output_type": "execute_result"
    }
   ],
   "source": [
    "joblib.dump(\n",
    "    xgb_clf_best,\n",
    "    \"../../../Models/RexExpPURE_Classifiers/Roberta_Classifiers/XGBoost.joblib\",\n",
    ")"
   ]
  },
  {
   "cell_type": "markdown",
   "metadata": {},
   "source": [
    "## LightGBM Classifier"
   ]
  },
  {
   "cell_type": "code",
   "execution_count": 20,
   "metadata": {},
   "outputs": [],
   "source": [
    "import lightgbm as lgb"
   ]
  },
  {
   "cell_type": "code",
   "execution_count": 21,
   "metadata": {},
   "outputs": [
    {
     "name": "stdout",
     "output_type": "stream",
     "text": [
      "Fitting 5 folds for each of 324 candidates, totalling 1620 fits\n",
      "[LightGBM] [Info] Number of positive: 2832, number of negative: 2474\n",
      "[LightGBM] [Info] Auto-choosing col-wise multi-threading, the overhead of testing was 0.025925 seconds.\n",
      "You can set `force_col_wise=true` to remove the overhead.\n",
      "[LightGBM] [Info] Total Bins 195840\n",
      "[LightGBM] [Info] Number of data points in the train set: 5306, number of used features: 768\n",
      "[LightGBM] [Info] [binary:BoostFromScore]: pavg=0.533735 -> initscore=0.135147\n",
      "[LightGBM] [Info] Start training from score 0.135147\n",
      "Best Hyperparameters:  {'colsample_bytree': 1.0, 'learning_rate': 0.1, 'min_child_samples': 20, 'n_estimators': 300, 'num_leaves': 50, 'subsample': 0.8}\n",
      "Best Accuracy Score:  0.7327662316224434\n"
     ]
    }
   ],
   "source": [
    "# Define the parameter grid for hyperparameter tuning\n",
    "param_grid = {\n",
    "    \"num_leaves\": [31, 50, 100],\n",
    "    \"learning_rate\": [0.1, 0.01, 0.001],\n",
    "    \"n_estimators\": [100, 200, 300],\n",
    "    \"min_child_samples\": [20, 50, 100],\n",
    "    \"subsample\": [0.8, 1.0],\n",
    "    \"colsample_bytree\": [0.8, 1.0],\n",
    "}\n",
    "\n",
    "# Create a LightGBM classifier\n",
    "lgb_clf = lgb.LGBMClassifier(random_state=42)\n",
    "\n",
    "# Perform grid search cross-validation\n",
    "grid_search = GridSearchCV(\n",
    "    estimator=lgb_clf,\n",
    "    param_grid=param_grid,\n",
    "    cv=5,\n",
    "    scoring=\"accuracy\",\n",
    "    n_jobs=-1,\n",
    "    verbose=2,\n",
    ")\n",
    "grid_search.fit(cls_token_set_train, train_labels)\n",
    "\n",
    "# Print the best hyperparameters and the corresponding accuracy score\n",
    "print(\"Best Hyperparameters: \", grid_search.best_params_)\n",
    "print(\"Best Accuracy Score: \", grid_search.best_score_)\n",
    "\n"
   ]
  },
  {
   "cell_type": "code",
   "execution_count": 25,
   "metadata": {},
   "outputs": [
    {
     "name": "stdout",
     "output_type": "stream",
     "text": [
      "[LightGBM] [Info] Number of positive: 2832, number of negative: 2474\n",
      "[LightGBM] [Info] Auto-choosing col-wise multi-threading, the overhead of testing was 0.021384 seconds.\n",
      "You can set `force_col_wise=true` to remove the overhead.\n",
      "[LightGBM] [Info] Total Bins 195840\n",
      "[LightGBM] [Info] Number of data points in the train set: 5306, number of used features: 768\n",
      "[LightGBM] [Info] [binary:BoostFromScore]: pavg=0.533735 -> initscore=0.135147\n",
      "[LightGBM] [Info] Start training from score 0.135147\n",
      "Test Set Classification Report:\n",
      "              precision    recall  f1-score   support\n",
      "\n",
      "           0       0.50      0.85      0.63       476\n",
      "           1       0.90      0.62      0.74      1058\n",
      "\n",
      "    accuracy                           0.69      1534\n",
      "   macro avg       0.70      0.74      0.68      1534\n",
      "weighted avg       0.78      0.69      0.70      1534\n",
      "\n",
      "Validation Set Classification Report:\n",
      "              precision    recall  f1-score   support\n",
      "\n",
      "           0       0.94      0.72      0.82       650\n",
      "           1       0.56      0.89      0.68       255\n",
      "\n",
      "    accuracy                           0.77       905\n",
      "   macro avg       0.75      0.81      0.75       905\n",
      "weighted avg       0.83      0.77      0.78       905\n",
      "\n"
     ]
    }
   ],
   "source": [
    "# Create a LightGBM classifier with the best hyperparameters\n",
    "lgb_clf_best = lgb.LGBMClassifier(\n",
    "    num_leaves=grid_search.best_params_[\"num_leaves\"],\n",
    "    learning_rate=grid_search.best_params_[\"learning_rate\"],\n",
    "    n_estimators=grid_search.best_params_[\"n_estimators\"],\n",
    "    min_child_samples=grid_search.best_params_[\"min_child_samples\"],\n",
    "    subsample=grid_search.best_params_[\"subsample\"],\n",
    "    colsample_bytree=grid_search.best_params_[\"colsample_bytree\"],\n",
    "    random_state=42,\n",
    ")\n",
    "\n",
    "# Fit the model on the training data\n",
    "lgb_clf_best.fit(cls_token_set_train, train_labels)\n",
    "\n",
    "# Evaluate the model on the test set\n",
    "test_predictions = lgb_clf_best.predict(cls_token_set_test)\n",
    "print(\"Test Set Classification Report:\")\n",
    "print(classification_report(test_labels, test_predictions))\n",
    "\n",
    "# Evaluate the model on the validation set\n",
    "valid_predictions = lgb_clf_best.predict(cls_token_set_valid)\n",
    "print(\"Validation Set Classification Report:\")\n",
    "print(classification_report(valid_labels, valid_predictions))"
   ]
  },
  {
   "cell_type": "code",
   "execution_count": 26,
   "metadata": {},
   "outputs": [
    {
     "data": {
      "text/plain": [
       "['../../../Models/RexExpPURE_Classifiers/Roberta_Classifiers/LightGBM.joblib']"
      ]
     },
     "execution_count": 26,
     "metadata": {},
     "output_type": "execute_result"
    }
   ],
   "source": [
    "joblib.dump(lgb_clf_best, \"../../../Models/RexExpPURE_Classifiers/Roberta_Classifiers/LightGBM.joblib\")"
   ]
  },
  {
   "cell_type": "markdown",
   "metadata": {},
   "source": [
    "## SVM Classifier"
   ]
  },
  {
   "cell_type": "code",
   "execution_count": 16,
   "metadata": {},
   "outputs": [],
   "source": [
    "from sklearn.svm import SVC"
   ]
  },
  {
   "cell_type": "code",
   "execution_count": 17,
   "metadata": {},
   "outputs": [
    {
     "name": "stdout",
     "output_type": "stream",
     "text": [
      "Fitting 5 folds for each of 12 candidates, totalling 60 fits\n",
      "Best Hyperparameters:  {'C': 10, 'gamma': 'scale', 'kernel': 'rbf'}\n",
      "Best Accuracy Score:  0.7369161026711467\n"
     ]
    }
   ],
   "source": [
    "# Define the parameter grid for hyperparameter tuning\n",
    "param_grid = {\n",
    "    \"C\": [0.1, 1, 10],\n",
    "    \"kernel\": [\"linear\", \"rbf\"],\n",
    "    \"gamma\": [\"scale\", \"auto\"],\n",
    "}\n",
    "\n",
    "# Create an SVM classifier\n",
    "svm_clf = SVC(random_state=42)\n",
    "\n",
    "# Perform grid search cross-validation\n",
    "grid_search = GridSearchCV(\n",
    "    estimator=svm_clf,\n",
    "    param_grid=param_grid,\n",
    "    cv=5,\n",
    "    scoring=\"accuracy\",\n",
    "    n_jobs=-1,\n",
    "    verbose=2,\n",
    ")\n",
    "grid_search.fit(cls_token_set_train, train_labels)\n",
    "\n",
    "# Print the best hyperparameters and the corresponding accuracy score\n",
    "print(\"Best Hyperparameters: \", grid_search.best_params_)\n",
    "print(\"Best Accuracy Score: \", grid_search.best_score_)"
   ]
  },
  {
   "cell_type": "code",
   "execution_count": 18,
   "metadata": {},
   "outputs": [
    {
     "name": "stdout",
     "output_type": "stream",
     "text": [
      "Test Set Performance:\n",
      "              precision    recall  f1-score   support\n",
      "\n",
      "           0       0.55      0.87      0.68       476\n",
      "           1       0.92      0.68      0.78      1058\n",
      "\n",
      "    accuracy                           0.74      1534\n",
      "   macro avg       0.74      0.78      0.73      1534\n",
      "weighted avg       0.81      0.74      0.75      1534\n",
      "\n",
      "Validation Set Performance:\n",
      "              precision    recall  f1-score   support\n",
      "\n",
      "           0       0.96      0.71      0.81       650\n",
      "           1       0.55      0.92      0.69       255\n",
      "\n",
      "    accuracy                           0.77       905\n",
      "   macro avg       0.75      0.81      0.75       905\n",
      "weighted avg       0.84      0.77      0.78       905\n",
      "\n"
     ]
    }
   ],
   "source": [
    "# Create an SVM classifier with the best hyperparameters\n",
    "svm_clf_best = SVC(\n",
    "    C=grid_search.best_params_[\"C\"],\n",
    "    kernel=grid_search.best_params_[\"kernel\"],\n",
    "    gamma=grid_search.best_params_[\"gamma\"],\n",
    "    random_state=42,\n",
    ")\n",
    "\n",
    "# Fit the SVM classifier on the training data\n",
    "svm_clf_best.fit(cls_token_set_train, train_labels)\n",
    "\n",
    "# Evaluate the SVM classifier on the test set\n",
    "print(\"Test Set Performance:\")\n",
    "print(classification_report(test_labels, svm_clf_best.predict(cls_token_set_test)))\n",
    "\n",
    "# Evaluate the SVM classifier on the validation set\n",
    "print(\"Validation Set Performance:\")\n",
    "print(classification_report(valid_labels, svm_clf_best.predict(cls_token_set_valid)))"
   ]
  },
  {
   "cell_type": "code",
   "execution_count": 19,
   "metadata": {},
   "outputs": [
    {
     "data": {
      "text/plain": [
       "['../../../Models/RexExpPURE_Classifiers/Roberta_Classifiers/SVM.joblib']"
      ]
     },
     "execution_count": 19,
     "metadata": {},
     "output_type": "execute_result"
    }
   ],
   "source": [
    "joblib.dump(\n",
    "    svm_clf_best,\n",
    "    \"../../../Models/RexExpPURE_Classifiers/Roberta_Classifiers/SVM.joblib\",\n",
    ")"
   ]
  }
 ],
 "metadata": {
  "kernelspec": {
   "display_name": "venv",
   "language": "python",
   "name": "python3"
  },
  "language_info": {
   "codemirror_mode": {
    "name": "ipython",
    "version": 3
   },
   "file_extension": ".py",
   "mimetype": "text/x-python",
   "name": "python",
   "nbconvert_exporter": "python",
   "pygments_lexer": "ipython3",
   "version": "3.12.3"
  }
 },
 "nbformat": 4,
 "nbformat_minor": 2
}
