{
 "cells": [
  {
   "cell_type": "code",
   "execution_count": 1,
   "metadata": {},
   "outputs": [],
   "source": [
    "import pandas as pd"
   ]
  },
  {
   "cell_type": "code",
   "execution_count": 2,
   "metadata": {},
   "outputs": [],
   "source": [
    "train_df = pd.read_csv(\n",
    "    \"../../../Datasets/RegExpPURE/PURE_train.csv\",\n",
    "    usecols=[\"Requirement\", \"Req/Not Req\"],\n",
    ")\n",
    "\n",
    "test_df = pd.read_csv(\n",
    "    \"../../../Datasets/RegExpPURE/PURE_test.csv\",\n",
    "    usecols=[\"Requirement\", \"Req/Not Req\"],\n",
    ")\n",
    "\n",
    "valid_df = pd.read_csv(\n",
    "    \"../../../Datasets/RegExpPURE/PURE_valid.csv\",\n",
    "    usecols=[\"Requirement\", \"Req/Not Req\"],\n",
    ")"
   ]
  },
  {
   "cell_type": "code",
   "execution_count": 3,
   "metadata": {},
   "outputs": [],
   "source": [
    "train_X = train_df[\"Requirement\"].values\n",
    "train_y = train_df[\"Req/Not Req\"].map({\"Req\": 1, \"Not_Req\": 0}).values\n",
    "\n",
    "test_X = test_df[\"Requirement\"].values\n",
    "test_y = test_df[\"Req/Not Req\"].map({\"Req\": 1, \"Not_Req\": 0}).values\n",
    "\n",
    "valid_X = valid_df[\"Requirement\"].values\n",
    "valid_y = valid_df[\"Req/Not Req\"].map({\"Req\": 1, \"Not_Req\": 0}).values"
   ]
  },
  {
   "cell_type": "markdown",
   "metadata": {},
   "source": [
    "## Running DistilBERT with Hugging Face Transformers"
   ]
  },
  {
   "cell_type": "code",
   "execution_count": 4,
   "metadata": {},
   "outputs": [
    {
     "name": "stderr",
     "output_type": "stream",
     "text": [
      "d:\\SWE Class\\Github Desktop\\Classification-of-Software-Requirements\\venv\\Lib\\site-packages\\tqdm\\auto.py:21: TqdmWarning: IProgress not found. Please update jupyter and ipywidgets. See https://ipywidgets.readthedocs.io/en/stable/user_install.html\n",
      "  from .autonotebook import tqdm as notebook_tqdm\n"
     ]
    }
   ],
   "source": [
    "from transformers import RobertaModel, RobertaTokenizer"
   ]
  },
  {
   "cell_type": "code",
   "execution_count": 5,
   "metadata": {},
   "outputs": [],
   "source": [
    "roberta_model = RobertaModel.from_pretrained(\"../../../Models/Roberta_Pretrained\")\n",
    "\n",
    "\n",
    "# Create the tokenizer\n",
    "tokenizer = RobertaTokenizer.from_pretrained(\"roberta-base\")"
   ]
  },
  {
   "cell_type": "code",
   "execution_count": 6,
   "metadata": {},
   "outputs": [],
   "source": [
    "# Save the model in the Model folder\n",
    "# roberta_model.save_pretrained(\"../../../Models/Roberta_Pretrained\")"
   ]
  },
  {
   "cell_type": "code",
   "execution_count": 7,
   "metadata": {},
   "outputs": [
    {
     "data": {
      "text/plain": [
       "array(['The help should be accessible to the users both in the offline and online mode.'],\n",
       "      dtype=object)"
      ]
     },
     "execution_count": 7,
     "metadata": {},
     "output_type": "execute_result"
    }
   ],
   "source": [
    "train_X[1:2]"
   ]
  },
  {
   "cell_type": "code",
   "execution_count": 8,
   "metadata": {},
   "outputs": [],
   "source": [
    "import torch\n",
    "import numpy as np"
   ]
  },
  {
   "cell_type": "code",
   "execution_count": 9,
   "metadata": {},
   "outputs": [],
   "source": [
    "BATCH_SIZE = 128\n",
    "MAX_LENGTH = 128"
   ]
  },
  {
   "cell_type": "code",
   "execution_count": 10,
   "metadata": {},
   "outputs": [],
   "source": [
    "for i in range(0, len(train_X), BATCH_SIZE):\n",
    "    batch = train_X[i : i + BATCH_SIZE]\n",
    "    inputs = tokenizer(\n",
    "        batch.tolist(), return_tensors=\"pt\", padding=\"max_length\", truncation=True, max_length=MAX_LENGTH\n",
    "    )\n",
    "    torch.cuda.empty_cache()\n",
    "    with torch.cuda.amp.autocast():\n",
    "        outputs = roberta_model(**inputs)\n",
    "    last_hidden_states = outputs.last_hidden_state\n",
    "    last_hidden_states = last_hidden_states.detach().numpy()\n",
    "    np.save(f\"../../../States/Roberta_Pretrained/Train/train_{i}.npy\", last_hidden_states)"
   ]
  },
  {
   "cell_type": "code",
   "execution_count": 11,
   "metadata": {},
   "outputs": [],
   "source": [
    "for i in range(0, len(test_X), BATCH_SIZE):\n",
    "    batch = test_X[i : i + BATCH_SIZE]\n",
    "    inputs = tokenizer(\n",
    "        batch.tolist(),\n",
    "        return_tensors=\"pt\",\n",
    "        padding=\"max_length\",\n",
    "        truncation=True,\n",
    "        max_length=MAX_LENGTH,\n",
    "    )\n",
    "    torch.cuda.empty_cache()\n",
    "    with torch.cuda.amp.autocast():\n",
    "        outputs = roberta_model(**inputs)\n",
    "    last_hidden_states = outputs.last_hidden_state\n",
    "    last_hidden_states = last_hidden_states.detach().numpy()\n",
    "    np.save(\n",
    "        f\"../../../States/Roberta_Pretrained/Test/test_{i}.npy\", last_hidden_states\n",
    "    )"
   ]
  },
  {
   "cell_type": "code",
   "execution_count": 12,
   "metadata": {},
   "outputs": [],
   "source": [
    "for i in range(0, len(valid_X), BATCH_SIZE):\n",
    "    batch = valid_X[i : i + BATCH_SIZE]\n",
    "    inputs = tokenizer(\n",
    "        batch.tolist(),\n",
    "        return_tensors=\"pt\",\n",
    "        padding=\"max_length\",\n",
    "        truncation=True,\n",
    "        max_length=MAX_LENGTH,\n",
    "    )\n",
    "    torch.cuda.empty_cache()\n",
    "    with torch.cuda.amp.autocast():\n",
    "        outputs = roberta_model(**inputs)\n",
    "    last_hidden_states = outputs.last_hidden_state\n",
    "    last_hidden_states = last_hidden_states.detach().numpy()\n",
    "    np.save(\n",
    "        f\"../../../States/Roberta_Pretrained/Validation/validation_{i}.npy\",\n",
    "        last_hidden_states,\n",
    "    )"
   ]
  },
  {
   "cell_type": "code",
   "execution_count": 13,
   "metadata": {},
   "outputs": [
    {
     "name": "stdout",
     "output_type": "stream",
     "text": [
      "1534 (1534, 128, 768)\n"
     ]
    }
   ],
   "source": [
    "test_states = np.concatenate(\n",
    "    [\n",
    "        np.load(f\"../../../States/Roberta_Pretrained/Test/test_{i}.npy\")\n",
    "        for i in range(0, len(test_X), BATCH_SIZE)\n",
    "    ]\n",
    ")\n",
    "\n",
    "print(len(test_X),test_states.shape)"
   ]
  },
  {
   "cell_type": "code",
   "execution_count": 14,
   "metadata": {},
   "outputs": [
    {
     "name": "stdout",
     "output_type": "stream",
     "text": [
      "5306 (5306, 128, 768)\n"
     ]
    }
   ],
   "source": [
    "train_states = np.concatenate(\n",
    "    [\n",
    "        np.load(f\"../../../States/Roberta_Pretrained/Train/train_{i}.npy\")\n",
    "        for i in range(0, len(train_X), BATCH_SIZE)\n",
    "    ]\n",
    ")\n",
    "\n",
    "print(len(train_X),train_states.shape)"
   ]
  },
  {
   "cell_type": "code",
   "execution_count": 15,
   "metadata": {},
   "outputs": [
    {
     "name": "stdout",
     "output_type": "stream",
     "text": [
      "905 (905, 128, 768)\n"
     ]
    }
   ],
   "source": [
    "validat_states = np.concatenate(\n",
    "    [\n",
    "        np.load(f\"../../../States/Roberta_Pretrained/Validation/validation_{i}.npy\")\n",
    "        for i in range(0, len(valid_X), BATCH_SIZE)\n",
    "    ]\n",
    ")\n",
    "\n",
    "print(len(valid_X),validat_states.shape)"
   ]
  }
 ],
 "metadata": {
  "kernelspec": {
   "display_name": "venv",
   "language": "python",
   "name": "python3"
  },
  "language_info": {
   "codemirror_mode": {
    "name": "ipython",
    "version": 3
   },
   "file_extension": ".py",
   "mimetype": "text/x-python",
   "name": "python",
   "nbconvert_exporter": "python",
   "pygments_lexer": "ipython3",
   "version": "3.12.3"
  }
 },
 "nbformat": 4,
 "nbformat_minor": 2
}
