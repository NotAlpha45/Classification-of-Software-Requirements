{
 "cells": [
  {
   "cell_type": "code",
   "execution_count": 1,
   "metadata": {},
   "outputs": [],
   "source": [
    "import numpy as np\n",
    "import joblib\n",
    "from sklearn.model_selection import cross_validate, train_test_split"
   ]
  },
  {
   "cell_type": "code",
   "execution_count": 2,
   "metadata": {},
   "outputs": [],
   "source": [
    "# Load all the saved models\n",
    "random_forest = joblib.load(\n",
    "    \"../../Models/requirement_relevancy_experiment/classifier_models/distilbert_random_forest_classifier.joblib\"\n",
    ")\n",
    "\n",
    "gradient_boosting = joblib.load(\n",
    "    \"../../Models/requirement_relevancy_experiment/classifier_models/distilbert_gradient_boost_classifier.joblib\"\n",
    ")\n",
    "\n",
    "ada_boost = joblib.load(\n",
    "    \"../../Models/requirement_relevancy_experiment/classifier_models/distilbert_adaboost_classifier.joblib\"\n",
    ")\n",
    "\n",
    "xgboost = joblib.load(\n",
    "    \"../../Models/requirement_relevancy_experiment/classifier_models/distilbert_xgboost_classifier.joblib\"\n",
    ")"
   ]
  },
  {
   "cell_type": "code",
   "execution_count": 3,
   "metadata": {},
   "outputs": [],
   "source": [
    "# Load the resampled data\n",
    "\n",
    "X_resampled = np.loadtxt(\n",
    "    \"../../Datasets/irrelevant_requirements_dataset/distilbert_X_resampled.csv\",\n",
    "    delimiter=\",\",\n",
    ")\n",
    "\n",
    "y_resampled = np.loadtxt(\n",
    "      \"../../Datasets/irrelevant_requirements_dataset/distilbert_y_resampled.csv\",\n",
    "    delimiter=\",\",\n",
    ")"
   ]
  },
  {
   "cell_type": "code",
   "execution_count": 4,
   "metadata": {},
   "outputs": [
    {
     "data": {
      "text/plain": [
       "((1114, 49152), (1114,))"
      ]
     },
     "execution_count": 4,
     "metadata": {},
     "output_type": "execute_result"
    }
   ],
   "source": [
    "X_resampled.shape, y_resampled.shape"
   ]
  },
  {
   "cell_type": "code",
   "execution_count": 5,
   "metadata": {},
   "outputs": [],
   "source": [
    "X_train, X_test, y_train, y_test = train_test_split(\n",
    "    X_resampled, y_resampled, test_size=0.2, random_state=42\n",
    ")"
   ]
  },
  {
   "cell_type": "code",
   "execution_count": 6,
   "metadata": {
    "tags": []
   },
   "outputs": [],
   "source": [
    "validation_fold = 5"
   ]
  },
  {
   "cell_type": "code",
   "execution_count": 13,
   "metadata": {},
   "outputs": [],
   "source": [
    "cross_validation_result_dict = {\n",
    "    \"model_name\": [],\n",
    "    \"accuracy\": [],\n",
    "    \"precision\": [],\n",
    "    \"recall\": [],\n",
    "    \"f1\": [],\n",
    "    \"fit_time\": [],\n",
    "    \"score_time\": [],\n",
    "}\n",
    "\n",
    "\n",
    "def append_scores(\n",
    "    cross_validation_result_dict,\n",
    "    model_name: str,\n",
    "    accuracy: float,\n",
    "    precision: float,\n",
    "    recall: float,\n",
    "    f1: float,\n",
    "    fit_time: float,\n",
    "    score_time: float,\n",
    "):\n",
    "    cross_validation_result_dict[\"model_name\"].append(model_name)\n",
    "    cross_validation_result_dict[\"accuracy\"].append(accuracy)\n",
    "    cross_validation_result_dict[\"precision\"].append(precision)\n",
    "    cross_validation_result_dict[\"recall\"].append(recall)\n",
    "    cross_validation_result_dict[\"f1\"].append(f1)\n",
    "    cross_validation_result_dict[\"fit_time\"].append(fit_time)\n",
    "    cross_validation_result_dict[\"score_time\"].append(score_time)\n",
    "\n",
    "    return cross_validation_result_dict"
   ]
  },
  {
   "cell_type": "markdown",
   "metadata": {},
   "source": [
    "## Cross Validation\n",
    "\n",
    "Cross validation is a technique for assessing how the results of a statistical analysis will generalize to an independent data set. It is mainly used in settings where the goal is prediction, and one wants to estimate how accurately a predictive model will perform in practice. One round of cross-validation involves partitioning a sample of data into complementary subsets, performing the analysis on one subset (called the training set), and validating the analysis on the other subset (called the validation set or testing set). To reduce variability, multiple rounds of cross-validation are performed using different partitions, and the validation results are averaged over the rounds."
   ]
  },
  {
   "cell_type": "markdown",
   "metadata": {},
   "source": [
    "### Cross Validation for Random Forest"
   ]
  },
  {
   "cell_type": "code",
   "execution_count": 8,
   "metadata": {},
   "outputs": [],
   "source": [
    "random_forest_scores = cross_validate(\n",
    "    random_forest,\n",
    "    X_train,\n",
    "    y_train,\n",
    "    cv=validation_fold,\n",
    "    n_jobs=-1,\n",
    "    scoring=[\"f1\", \"accuracy\", \"precision\", \"recall\"],\n",
    ")"
   ]
  },
  {
   "cell_type": "code",
   "execution_count": 9,
   "metadata": {},
   "outputs": [
    {
     "data": {
      "text/plain": [
       "{'fit_time': array([21.36870289, 21.36269975, 21.46144104, 21.08267117, 20.98727417]),\n",
       " 'score_time': array([0.04220343, 0.0392158 , 0.04178834, 0.0438571 , 0.03693438]),\n",
       " 'test_f1': array([0.98850575, 0.99428571, 0.99428571, 0.97701149, 0.97206704]),\n",
       " 'test_accuracy': array([0.98882682, 0.99438202, 0.99438202, 0.97752809, 0.97191011]),\n",
       " 'test_precision': array([1.        , 0.98863636, 0.98863636, 0.97701149, 0.94565217]),\n",
       " 'test_recall': array([0.97727273, 1.        , 1.        , 0.97701149, 1.        ])}"
      ]
     },
     "execution_count": 9,
     "metadata": {},
     "output_type": "execute_result"
    }
   ],
   "source": [
    "random_forest_scores"
   ]
  },
  {
   "cell_type": "code",
   "execution_count": null,
   "metadata": {},
   "outputs": [],
   "source": [
    "append_scores(\n",
    "    cross_validation_result_dict,\n",
    "    \"Random Forest\",\n",
    "    np.mean(random_forest_scores[\"test_accuracy\"]),\n",
    "    np.mean(random_forest_scores[\"test_precision\"]),\n",
    "    np.mean(random_forest_scores[\"test_recall\"]),\n",
    "    np.mean(random_forest_scores[\"test_f1\"]),\n",
    "    np.mean(random_forest_scores[\"fit_time\"]),\n",
    "    np.mean(random_forest_scores[\"score_time\"]),\n",
    ")"
   ]
  },
  {
   "cell_type": "markdown",
   "metadata": {},
   "source": [
    "### Adaboost Cross Validation"
   ]
  },
  {
   "cell_type": "code",
   "execution_count": 15,
   "metadata": {},
   "outputs": [
    {
     "data": {
      "text/plain": [
       "{'fit_time': array([486.62333131, 489.76314998, 494.57358479, 487.87958884,\n",
       "        489.88954329]),\n",
       " 'score_time': array([1.06545687, 1.02035284, 0.79375386, 0.88425612, 1.01422167]),\n",
       " 'test_f1': array([0.93023256, 0.94674556, 0.93413174, 0.92682927, 0.92941176]),\n",
       " 'test_accuracy': array([0.93296089, 0.9494382 , 0.93820225, 0.93258427, 0.93258427]),\n",
       " 'test_precision': array([0.95238095, 0.97560976, 0.975     , 0.98701299, 0.95180723]),\n",
       " 'test_recall': array([0.90909091, 0.91954023, 0.89655172, 0.87356322, 0.90804598])}"
      ]
     },
     "execution_count": 15,
     "metadata": {},
     "output_type": "execute_result"
    }
   ],
   "source": [
    "adaboost_cross_validation_scores = cross_validate(\n",
    "    ada_boost,\n",
    "    X_train,\n",
    "    y_train,\n",
    "    cv=validation_fold,\n",
    "    n_jobs=-1,\n",
    "    scoring=[\"f1\", \"accuracy\", \"precision\", \"recall\"],\n",
    ")\n",
    "\n",
    "adaboost_cross_validation_scores"
   ]
  },
  {
   "cell_type": "code",
   "execution_count": 16,
   "metadata": {},
   "outputs": [
    {
     "data": {
      "text/plain": [
       "{'model_name': ['Random Forest', 'AdaBoost'],\n",
       " 'accuracy': [0.9854058125666938, 0.9371539765237588],\n",
       " 'precision': [0.9799872790877288, 0.9683621848814326],\n",
       " 'recall': [0.9908568443051202, 0.9013584117032393],\n",
       " 'f1': [0.9852311418113768, 0.9334701779590446],\n",
       " 'fit_time': [21.252557802200318, 489.7458396434784],\n",
       " 'score_time': [0.04079980850219726, 0.9556082725524903]}"
      ]
     },
     "execution_count": 16,
     "metadata": {},
     "output_type": "execute_result"
    }
   ],
   "source": [
    "append_scores(\n",
    "    cross_validation_result_dict,\n",
    "    \"AdaBoost\",\n",
    "    np.mean(adaboost_cross_validation_scores[\"test_accuracy\"]),\n",
    "    np.mean(adaboost_cross_validation_scores[\"test_precision\"]),\n",
    "    np.mean(adaboost_cross_validation_scores[\"test_recall\"]),\n",
    "    np.mean(adaboost_cross_validation_scores[\"test_f1\"]),\n",
    "    np.mean(adaboost_cross_validation_scores[\"fit_time\"]),\n",
    "    np.mean(adaboost_cross_validation_scores[\"score_time\"]),\n",
    ")"
   ]
  },
  {
   "cell_type": "markdown",
   "metadata": {},
   "source": [
    "### XGBoost Cross Validation"
   ]
  },
  {
   "cell_type": "code",
   "execution_count": 17,
   "metadata": {},
   "outputs": [
    {
     "data": {
      "text/plain": [
       "{'fit_time': array([ 82.7177043 ,  82.91661596, 102.46022224,  89.85641599,\n",
       "        100.41938782]),\n",
       " 'score_time': array([0.17369747, 0.14978862, 0.20126796, 0.14233232, 0.17237663]),\n",
       " 'test_f1': array([0.95906433, 0.98285714, 1.        , 0.95857988, 0.96629213]),\n",
       " 'test_accuracy': array([0.96089385, 0.98314607, 1.        , 0.96067416, 0.96629213]),\n",
       " 'test_precision': array([0.98795181, 0.97727273, 1.        , 0.98780488, 0.94505495]),\n",
       " 'test_recall': array([0.93181818, 0.98850575, 1.        , 0.93103448, 0.98850575])}"
      ]
     },
     "execution_count": 17,
     "metadata": {},
     "output_type": "execute_result"
    }
   ],
   "source": [
    "xgboost_scores = cross_validate(\n",
    "    xgboost,\n",
    "    X_train,\n",
    "    y_train,\n",
    "    cv=validation_fold,\n",
    "    scoring=[\"f1\", \"accuracy\", \"precision\", \"recall\"],\n",
    ")\n",
    "\n",
    "xgboost_scores"
   ]
  },
  {
   "cell_type": "code",
   "execution_count": 18,
   "metadata": {},
   "outputs": [
    {
     "data": {
      "text/plain": [
       "{'model_name': ['Random Forest', 'AdaBoost', 'XGBoost'],\n",
       " 'accuracy': [0.9854058125666938, 0.9371539765237588, 0.9742012428598329],\n",
       " 'precision': [0.9799872790877288, 0.9683621848814326, 0.9796168715210737],\n",
       " 'recall': [0.9908568443051202, 0.9013584117032393, 0.9679728317659352],\n",
       " 'f1': [0.9852311418113768, 0.9334701779590446, 0.9733586973661577],\n",
       " 'fit_time': [21.252557802200318, 489.7458396434784, 91.6740692615509],\n",
       " 'score_time': [0.04079980850219726, 0.9556082725524903, 0.16789259910583496]}"
      ]
     },
     "execution_count": 18,
     "metadata": {},
     "output_type": "execute_result"
    }
   ],
   "source": [
    "append_scores(\n",
    "    cross_validation_result_dict,\n",
    "    \"XGBoost\",\n",
    "    np.mean(xgboost_scores[\"test_accuracy\"]),\n",
    "    np.mean(xgboost_scores[\"test_precision\"]),\n",
    "    np.mean(xgboost_scores[\"test_recall\"]),\n",
    "    np.mean(xgboost_scores[\"test_f1\"]),\n",
    "    np.mean(xgboost_scores[\"fit_time\"]),\n",
    "    np.mean(xgboost_scores[\"score_time\"]),\n",
    ")"
   ]
  },
  {
   "cell_type": "markdown",
   "metadata": {},
   "source": [
    "### Gradient Boosting Cross Validation\n"
   ]
  },
  {
   "cell_type": "code",
   "execution_count": 19,
   "metadata": {},
   "outputs": [],
   "source": [
    "gradient_boosting_cross_validation_scores = cross_validate(\n",
    "    gradient_boosting,\n",
    "    X_train,\n",
    "    y_train,\n",
    "    cv=validation_fold,\n",
    "    n_jobs=-1,\n",
    "    scoring=[\"f1\", \"accuracy\", \"precision\", \"recall\"],\n",
    ")"
   ]
  },
  {
   "cell_type": "code",
   "execution_count": 20,
   "metadata": {},
   "outputs": [
    {
     "data": {
      "text/plain": [
       "{'model_name': ['Random Forest', 'AdaBoost', 'XGBoost', 'Gradient Boosting'],\n",
       " 'accuracy': [0.9854058125666938,\n",
       "  0.9371539765237588,\n",
       "  0.9742012428598329,\n",
       "  0.9786830707425773],\n",
       " 'precision': [0.9799872790877288,\n",
       "  0.9683621848814326,\n",
       "  0.9796168715210737,\n",
       "  0.9864045773348099],\n",
       " 'recall': [0.9908568443051202,\n",
       "  0.9013584117032393,\n",
       "  0.9679728317659352,\n",
       "  0.9702455590386625],\n",
       " 'f1': [0.9852311418113768,\n",
       "  0.9334701779590446,\n",
       "  0.9733586973661577,\n",
       "  0.9780300985964798],\n",
       " 'fit_time': [21.252557802200318,\n",
       "  489.7458396434784,\n",
       "  91.6740692615509,\n",
       "  2859.247578382492],\n",
       " 'score_time': [0.04079980850219726,\n",
       "  0.9556082725524903,\n",
       "  0.16789259910583496,\n",
       "  0.033298921585083005]}"
      ]
     },
     "execution_count": 20,
     "metadata": {},
     "output_type": "execute_result"
    }
   ],
   "source": [
    "append_scores(\n",
    "    cross_validation_result_dict,\n",
    "    \"Gradient Boosting\",\n",
    "    np.mean(gradient_boosting_cross_validation_scores[\"test_accuracy\"]),\n",
    "    np.mean(gradient_boosting_cross_validation_scores[\"test_precision\"]),\n",
    "    np.mean(gradient_boosting_cross_validation_scores[\"test_recall\"]),\n",
    "    np.mean(gradient_boosting_cross_validation_scores[\"test_f1\"]),\n",
    "    np.mean(gradient_boosting_cross_validation_scores[\"fit_time\"]),\n",
    "    np.mean(gradient_boosting_cross_validation_scores[\"score_time\"]),\n",
    ")"
   ]
  },
  {
   "cell_type": "markdown",
   "metadata": {},
   "source": [
    "## Result Export"
   ]
  },
  {
   "cell_type": "code",
   "execution_count": 21,
   "metadata": {},
   "outputs": [
    {
     "data": {
      "text/plain": [
       "{'model_name': ['Random Forest', 'AdaBoost', 'XGBoost', 'Gradient Boosting'],\n",
       " 'accuracy': [0.9854058125666938,\n",
       "  0.9371539765237588,\n",
       "  0.9742012428598329,\n",
       "  0.9786830707425773],\n",
       " 'precision': [0.9799872790877288,\n",
       "  0.9683621848814326,\n",
       "  0.9796168715210737,\n",
       "  0.9864045773348099],\n",
       " 'recall': [0.9908568443051202,\n",
       "  0.9013584117032393,\n",
       "  0.9679728317659352,\n",
       "  0.9702455590386625],\n",
       " 'f1': [0.9852311418113768,\n",
       "  0.9334701779590446,\n",
       "  0.9733586973661577,\n",
       "  0.9780300985964798],\n",
       " 'fit_time': [21.252557802200318,\n",
       "  489.7458396434784,\n",
       "  91.6740692615509,\n",
       "  2859.247578382492],\n",
       " 'score_time': [0.04079980850219726,\n",
       "  0.9556082725524903,\n",
       "  0.16789259910583496,\n",
       "  0.033298921585083005]}"
      ]
     },
     "execution_count": 21,
     "metadata": {},
     "output_type": "execute_result"
    }
   ],
   "source": [
    "cross_validation_result_dict"
   ]
  },
  {
   "cell_type": "code",
   "execution_count": 22,
   "metadata": {},
   "outputs": [],
   "source": [
    "from pandas import DataFrame\n",
    "\n",
    "cross_validation_result_df = DataFrame(cross_validation_result_dict)\n",
    "cross_validation_result_df.to_csv(\n",
    "    \"../../Results/irrelevant_requirements_experiment/classifiers_with_distilbert_cross_validation_results.csv\",\n",
    "    index=False,\n",
    ")"
   ]
  },
  {
   "cell_type": "code",
   "execution_count": 23,
   "metadata": {},
   "outputs": [
    {
     "data": {
      "text/html": [
       "<div>\n",
       "<style scoped>\n",
       "    .dataframe tbody tr th:only-of-type {\n",
       "        vertical-align: middle;\n",
       "    }\n",
       "\n",
       "    .dataframe tbody tr th {\n",
       "        vertical-align: top;\n",
       "    }\n",
       "\n",
       "    .dataframe thead th {\n",
       "        text-align: right;\n",
       "    }\n",
       "</style>\n",
       "<table border=\"1\" class=\"dataframe\">\n",
       "  <thead>\n",
       "    <tr style=\"text-align: right;\">\n",
       "      <th></th>\n",
       "      <th>model_name</th>\n",
       "      <th>accuracy</th>\n",
       "      <th>precision</th>\n",
       "      <th>recall</th>\n",
       "      <th>f1</th>\n",
       "      <th>fit_time</th>\n",
       "      <th>score_time</th>\n",
       "    </tr>\n",
       "  </thead>\n",
       "  <tbody>\n",
       "    <tr>\n",
       "      <th>0</th>\n",
       "      <td>Random Forest</td>\n",
       "      <td>0.985406</td>\n",
       "      <td>0.979987</td>\n",
       "      <td>0.990857</td>\n",
       "      <td>0.985231</td>\n",
       "      <td>21.252558</td>\n",
       "      <td>0.040800</td>\n",
       "    </tr>\n",
       "    <tr>\n",
       "      <th>1</th>\n",
       "      <td>AdaBoost</td>\n",
       "      <td>0.937154</td>\n",
       "      <td>0.968362</td>\n",
       "      <td>0.901358</td>\n",
       "      <td>0.933470</td>\n",
       "      <td>489.745840</td>\n",
       "      <td>0.955608</td>\n",
       "    </tr>\n",
       "    <tr>\n",
       "      <th>2</th>\n",
       "      <td>XGBoost</td>\n",
       "      <td>0.974201</td>\n",
       "      <td>0.979617</td>\n",
       "      <td>0.967973</td>\n",
       "      <td>0.973359</td>\n",
       "      <td>91.674069</td>\n",
       "      <td>0.167893</td>\n",
       "    </tr>\n",
       "    <tr>\n",
       "      <th>3</th>\n",
       "      <td>Gradient Boosting</td>\n",
       "      <td>0.978683</td>\n",
       "      <td>0.986405</td>\n",
       "      <td>0.970246</td>\n",
       "      <td>0.978030</td>\n",
       "      <td>2859.247578</td>\n",
       "      <td>0.033299</td>\n",
       "    </tr>\n",
       "  </tbody>\n",
       "</table>\n",
       "</div>"
      ],
      "text/plain": [
       "          model_name  accuracy  precision    recall        f1     fit_time  \\\n",
       "0      Random Forest  0.985406   0.979987  0.990857  0.985231    21.252558   \n",
       "1           AdaBoost  0.937154   0.968362  0.901358  0.933470   489.745840   \n",
       "2            XGBoost  0.974201   0.979617  0.967973  0.973359    91.674069   \n",
       "3  Gradient Boosting  0.978683   0.986405  0.970246  0.978030  2859.247578   \n",
       "\n",
       "   score_time  \n",
       "0    0.040800  \n",
       "1    0.955608  \n",
       "2    0.167893  \n",
       "3    0.033299  "
      ]
     },
     "execution_count": 23,
     "metadata": {},
     "output_type": "execute_result"
    }
   ],
   "source": [
    "cross_validation_result_df"
   ]
  }
 ],
 "metadata": {
  "kernelspec": {
   "display_name": "venv",
   "language": "python",
   "name": "python3"
  },
  "language_info": {
   "codemirror_mode": {
    "name": "ipython",
    "version": 3
   },
   "file_extension": ".py",
   "mimetype": "text/x-python",
   "name": "python",
   "nbconvert_exporter": "python",
   "pygments_lexer": "ipython3",
   "version": "3.11.4"
  },
  "orig_nbformat": 4
 },
 "nbformat": 4,
 "nbformat_minor": 2
}
