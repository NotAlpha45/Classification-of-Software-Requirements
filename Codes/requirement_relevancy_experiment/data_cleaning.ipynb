{
 "cells": [
  {
   "cell_type": "code",
   "execution_count": 47,
   "metadata": {},
   "outputs": [],
   "source": [
    "import arff\n",
    "import pandas as pd\n",
    "import os"
   ]
  },
  {
   "cell_type": "code",
   "execution_count": 48,
   "metadata": {},
   "outputs": [
    {
     "data": {
      "text/plain": [
       "['da01.arff',\n",
       " 'da02.arff',\n",
       " 'da03.arff',\n",
       " 'da04.arff',\n",
       " 'da05.arff',\n",
       " 'da06.arff',\n",
       " 'da07.arff',\n",
       " 'da08.arff',\n",
       " 'da09.arff',\n",
       " 'da10.arff',\n",
       " 'da11.arff',\n",
       " 'da12.arff',\n",
       " 'da13.arff',\n",
       " 'da14.arff']"
      ]
     },
     "execution_count": 48,
     "metadata": {},
     "output_type": "execute_result"
    }
   ],
   "source": [
    "arff_file_names = os.listdir(\n",
    "    \"c:\\\\SWE Class\\\\Github Desktop\\\\Classification of Software Requirements\\\\Datasets\\\\irrelevant_requirements_dataset\"\n",
    ")\n",
    "arff_file_names"
   ]
  },
  {
   "cell_type": "markdown",
   "metadata": {},
   "source": [
    "\"../../Datasets/irrelevant_requirements_dataset/da01.arff\""
   ]
  },
  {
   "cell_type": "code",
   "execution_count": null,
   "metadata": {},
   "outputs": [],
   "source": []
  },
  {
   "cell_type": "code",
   "execution_count": 49,
   "metadata": {},
   "outputs": [],
   "source": [
    "def replace_underscore_with_space(data):\n",
    "    space_replaced_data = []\n",
    "\n",
    "    for data_segments in data:\n",
    "        new_segment = [string.replace(\"_\", \" \") for string in data_segments]\n",
    "        space_replaced_data.append(new_segment)\n",
    "\n",
    "    return space_replaced_data"
   ]
  },
  {
   "cell_type": "code",
   "execution_count": 50,
   "metadata": {},
   "outputs": [],
   "source": [
    "dataset_arff = arff.load(\n",
    "    open(\"../../Datasets/irrelevant_requirements_dataset/da01.arff\", \"r\")\n",
    ")\n",
    "\n",
    "column_names = [attribute_name for attribute_name, _ in dataset_arff[\"attributes\"]]\n",
    "data = dataset_arff[\"data\"]"
   ]
  },
  {
   "cell_type": "code",
   "execution_count": 51,
   "metadata": {},
   "outputs": [
    {
     "data": {
      "text/html": [
       "<div>\n",
       "<style scoped>\n",
       "    .dataframe tbody tr th:only-of-type {\n",
       "        vertical-align: middle;\n",
       "    }\n",
       "\n",
       "    .dataframe tbody tr th {\n",
       "        vertical-align: top;\n",
       "    }\n",
       "\n",
       "    .dataframe thead th {\n",
       "        text-align: right;\n",
       "    }\n",
       "</style>\n",
       "<table border=\"1\" class=\"dataframe\">\n",
       "  <thead>\n",
       "    <tr style=\"text-align: right;\">\n",
       "      <th></th>\n",
       "      <th>reqs_statement</th>\n",
       "      <th>action_part</th>\n",
       "      <th>actor_part</th>\n",
       "      <th>label</th>\n",
       "    </tr>\n",
       "  </thead>\n",
       "  <tbody>\n",
       "  </tbody>\n",
       "</table>\n",
       "</div>"
      ],
      "text/plain": [
       "Empty DataFrame\n",
       "Columns: [reqs_statement, action_part, actor_part, label]\n",
       "Index: []"
      ]
     },
     "execution_count": 51,
     "metadata": {},
     "output_type": "execute_result"
    }
   ],
   "source": [
    "result_dataset = pd.DataFrame(columns=column_names)\n",
    "result_dataset"
   ]
  },
  {
   "cell_type": "code",
   "execution_count": 52,
   "metadata": {},
   "outputs": [],
   "source": [
    "for arr_file_name in arff_file_names:\n",
    "    dataset_arff = arff.load(\n",
    "        open(\"../../Datasets/irrelevant_requirements_dataset/\" + arr_file_name, \"r\")\n",
    "    )\n",
    "    column_names = [attribute_name for attribute_name, _ in dataset_arff[\"attributes\"]]\n",
    "    data = replace_underscore_with_space(dataset_arff[\"data\"])\n",
    "\n",
    "    result_dataset = pd.concat(\n",
    "        [result_dataset, pd.DataFrame(data=data, columns=column_names)]\n",
    "    )"
   ]
  },
  {
   "cell_type": "code",
   "execution_count": 53,
   "metadata": {},
   "outputs": [],
   "source": [
    "result_dataset.to_csv(\n",
    "    \"../../Datasets/irrelevant_requirements_dataset/\"\n",
    "    + \"irrelevant_requirements_dataset.csv\",\n",
    "    index=False,\n",
    ")"
   ]
  }
 ],
 "metadata": {
  "kernelspec": {
   "display_name": "venv",
   "language": "python",
   "name": "python3"
  },
  "language_info": {
   "codemirror_mode": {
    "name": "ipython",
    "version": 3
   },
   "file_extension": ".py",
   "mimetype": "text/x-python",
   "name": "python",
   "nbconvert_exporter": "python",
   "pygments_lexer": "ipython3",
   "version": "3.11.4"
  },
  "orig_nbformat": 4
 },
 "nbformat": 4,
 "nbformat_minor": 2
}
